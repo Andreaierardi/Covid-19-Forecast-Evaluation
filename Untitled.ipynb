{
 "cells": [
  {
   "cell_type": "code",
   "execution_count": 1,
   "metadata": {},
   "outputs": [
    {
     "name": "stderr",
     "output_type": "stream",
     "text": [
      "E:\\ProgramData\\Anaconda3\\lib\\site-packages\\ipykernel_launcher.py:25: ParserWarning: Falling back to the 'python' engine because the 'c' engine does not support regex separators (separators > 1 char and different from '\\s+' are interpreted as regex); you can avoid this warning by specifying engine='python'.\n",
      "E:\\ProgramData\\Anaconda3\\lib\\site-packages\\IPython\\core\\interactiveshell.py:3058: DtypeWarning: Columns (1) have mixed types. Specify dtype option on import or set low_memory=False.\n",
      "  interactivity=interactivity, compiler=compiler, result=result)\n"
     ]
    }
   ],
   "source": [
    "import numpy as np\n",
    "import pandas as pd\n",
    "from datetime import date\n",
    "\n",
    "### NOTE ON LOCATION NAMES ###\n",
    "# - Location names are contained in the column named 'location_name' of each dataset\n",
    "# - Datasets FC, RC, RD initially contained series of all states and all counties. \n",
    "# - forecast data's string for national location is 'National'. \n",
    "# - Real data's string for national location is 'US'.\n",
    "# - Previously selected locations (and therefore to be used) are contained in the list named 'states'.\n",
    "\n",
    "# Define the areas of interest \n",
    "states = ['US', 'Alabama', 'Alaska', 'Arizona', 'Arkansas', 'California', 'Colorado', 'Connecticut',\n",
    "          'Delaware', 'Florida', 'Georgia', 'Hawaii', 'Idaho', 'Illinois', 'Indiana', 'Iowa', 'Kansas', 'Kentucky',\n",
    "          'Louisiana', 'Maine', 'Maryland', 'Massachusetts', 'Michigan', 'Minnesota', 'Mississippi', 'Missouri',\n",
    "          'Montana', 'Nebraska', 'Nevada', 'New Hampshire', 'New Jersey', 'New Mexico', 'New York',\n",
    "          'North Carolina', 'North Dakota', 'Ohio', 'Oklahoma', 'Oregon', 'Pennsylvania', 'Rhode Island',\n",
    "          'South Carolina', 'South Dakota', 'Tennessee', 'Texas', 'Utah', 'Vermont', 'Virginia', 'Washington',\n",
    "          'West Virginia', 'Wisconsin', 'Wyoming', 'District of Columbia', 'Puerto Rico', 'Guam', 'Virgin Islands',\n",
    "          'Northern Mariana Islands', 'American Samoa']\n",
    "\n",
    "## Forecast data: begins with \"F\"\n",
    "# Forecasted cases: FC\n",
    "tb = pd.read_table(\"https://raw.githubusercontent.com/reichlab/covid19-forecast-hub/master/data-processed/contacts.txt\",\n",
    "                  header=0, sep='\\s\\s+')\n",
    "Fteams = tb.team.values\n",
    "\n",
    "FC = pd.read_csv(\n",
    "    \"https://www.cdc.gov/coronavirus/2019-ncov/downloads/cases-updates/2020-10-19-all-forecasted-cases-model-data.csv\")[\n",
    "    lambda x: x.location_name.isin(states + ['National'])]\n",
    "# Forecasted deaths: FD\n",
    "FD = pd.read_csv('https://www.cdc.gov/coronavirus/2019-ncov/covid-data/files/2020-10-19-model-data.csv')[\n",
    "    lambda x: x.location_name.isin(states + ['National'])]\n",
    "\n",
    "# Define unique lists\n",
    "Fmodels = list(np.unique(np.concatenate((FC.model.values, FD.model.values))))\n",
    "Fstates = list(np.unique(np.concatenate((FC.location_name.values, FD.location_name.values))))\n",
    "Fdates = list(np.unique(np.concatenate((FC.forecast_date.values, FD.forecast_date.values))))\n",
    "\n",
    "\n",
    "# [i in states for i in Fstates]\n",
    "\n",
    "# Forecast Series getter\n",
    "def getFS(type, model, state, Fdate):\n",
    "    \"\"\"Gets the forecasted deaths series by model, state and forecast date\n",
    "\n",
    "    Parameters\n",
    "    ----------\n",
    "    type : str\n",
    "        'cc' for cumulative cases.\n",
    "        'cd' for cumulative deaths.\n",
    "        'ic' for incidental cases.\n",
    "        'id' for incidental deaths.\n",
    "    model : str\n",
    "        The model of the forecast\n",
    "    state : str\n",
    "        The target state of the forecast\n",
    "    Fdate : str or datetime\n",
    "        The date when the forecast was performed. If a string, provide the format '%Y-%m-%d'.\n",
    "\n",
    "    Returns\n",
    "    -------\n",
    "    pandas.DataFrame\n",
    "        a data frame containing 5 series:\n",
    "           - point series\n",
    "           - 2.5% quantile\n",
    "           - 25% quantile\n",
    "           - 75% quantile\n",
    "           - 97.5% quantile\n",
    "        Indexes are of class pandas.DatetimeIndex.\n",
    "    \"\"\"\n",
    "    if (state == 'US'):\n",
    "        state = 'National'\n",
    "    if (type == 'cc'):\n",
    "        out = FC[(FC.model == model) & (FC.location_name == state) & (FC.forecast_date == Fdate) & FC.target.apply(\n",
    "            str.endswith, args=('cum case', 0))]\n",
    "    elif (type == 'cd'):\n",
    "        out = FD[(FD.model == model) & (FD.location_name == state) & (FD.forecast_date == Fdate) & FD.target.apply(\n",
    "            str.endswith, args=('cum death', 0))]\n",
    "    elif (type == 'ic'):\n",
    "        out = FC[(FC.model == model) & (FC.location_name == state) & (FC.forecast_date == Fdate) & FC.target.apply(\n",
    "            str.endswith, args=('inc case', 0))]\n",
    "    elif (type == 'id'):\n",
    "        out = FD[(FD.model == model) & (FD.location_name == state) & (FD.forecast_date == Fdate) & FD.target.apply(\n",
    "            str.endswith, args=('inc death', 0))]\n",
    "    else:\n",
    "        return None\n",
    "    if (out.empty):\n",
    "        return None\n",
    "    out = pd.DataFrame(out.iloc[:, -5:].values,\n",
    "                       columns=out.columns[-5:],\n",
    "                       index=pd.to_datetime(out.iloc[:, 3], format=\"%Y-%m-%d\")\n",
    "                       )\n",
    "\n",
    "    return out\n",
    "\n",
    "\n",
    "# Example: getFS('C', Fmodels[40], Fstates[0], Fdates[0])\n",
    "# Example: getFS('D', Fmodels[0], Fstates[0], Fdates[0]) is None\n",
    "\n",
    "\n",
    "# =================================================================================================================#\n",
    "## Real data: begins with \"R\"\n",
    "# Retrieve only the States (raw data also contains counties)\n",
    "\n",
    "# Real Deaths: RD\n",
    "RD = pd.read_csv(\n",
    "    \"https://raw.githubusercontent.com/reichlab/covid19-forecast-hub/master/data-truth/truth-Cumulative%20Deaths.csv\")[\n",
    "    lambda x: x.location_name.isin(states)]\n",
    "# Real Cases: RC\n",
    "RC = pd.read_csv(\n",
    "    \"https://raw.githubusercontent.com/reichlab/covid19-forecast-hub/master/data-truth/truth-Cumulative%20Cases.csv\")[\n",
    "    lambda x: x.location_name.isin(states)]\n",
    "\n",
    "# Name of all\n",
    "Rstates = list(np.unique(np.concatenate((RC.location_name.values, RD.location_name.values))))\n",
    "\n",
    "\n",
    "# Real Series getter\n",
    "def getRS(type, state, aggregateOn=5):\n",
    "    \"\"\"Gets the real cases or deaths series by state\n",
    "\n",
    "    Parameters\n",
    "    ----------\n",
    "    type : str\n",
    "        'C' for cumulative cases. \n",
    "        'D' for cumulative deaths.\n",
    "    state : str\n",
    "        The state where deaths were recorded\n",
    "    aggregateOn : int or bool\n",
    "        The weekday to aggregate the observations on.\n",
    "        0 is Monday, 6 is Sunday.\n",
    "        Set to false to prevent aggregation.\n",
    "\n",
    "    Returns\n",
    "    -------\n",
    "    pandas.Series : the series of real cases or deaths of the specified state. Indexes are of class pandas.DatetimeIndex.\n",
    "    \"\"\"\n",
    "    if (type == 'C'):\n",
    "        out = pd.Series(RC[RC['location_name'] == state].iloc[:, 3].values,\n",
    "                        index=pd.to_datetime(RC[RC['location_name'] == state].iloc[:, 0].values, format=\"%Y-%m-%d\"),\n",
    "                        name=state + \": Cumulative cases\")\n",
    "    elif (type == 'D'):\n",
    "        out = pd.Series(RD[RD['location_name'] == state].iloc[:, 3].values,\n",
    "                        index=pd.to_datetime(RD[RD['location_name'] == state].iloc[:, 0].values, format=\"%Y-%m-%d\"),\n",
    "                        name=state + \": Cumulative deaths\"\n",
    "                        )\n",
    "    if (aggregateOn is not False):\n",
    "        out = out[out.index.weekday == aggregateOn]\n",
    "\n",
    "    return (out)\n",
    "\n",
    "# Example: getRS('D',states[0])\n",
    "\n",
    "# Example: aa = getRS('D',states[0])\n",
    "#          bb = getFS('D', Fmodels[0], states[0], Fdates[0])\n",
    "#          bb.index.isin(aa.index)\n"
   ]
  },
  {
   "cell_type": "code",
   "execution_count": 28,
   "metadata": {},
   "outputs": [],
   "source": [
    "a = getRS('D',states[0])"
   ]
  },
  {
   "cell_type": "code",
   "execution_count": 29,
   "metadata": {},
   "outputs": [
    {
     "data": {
      "text/plain": [
       "2020-01-25         0\n",
       "2020-02-01         0\n",
       "2020-02-08         0\n",
       "2020-02-15         0\n",
       "2020-02-22         0\n",
       "2020-02-29         1\n",
       "2020-03-07        17\n",
       "2020-03-14        58\n",
       "2020-03-21       464\n",
       "2020-03-28      2891\n",
       "2020-04-04     10892\n",
       "2020-04-11     25530\n",
       "2020-04-18     40567\n",
       "2020-04-25     55988\n",
       "2020-05-02     69535\n",
       "2020-05-09     81817\n",
       "2020-05-16     91792\n",
       "2020-05-23    100348\n",
       "2020-05-30    106985\n",
       "2020-06-06    113102\n",
       "2020-06-13    118316\n",
       "2020-06-20    122540\n",
       "2020-06-27    126483\n",
       "2020-07-04    130127\n",
       "2020-07-11    135359\n",
       "2020-07-18    140825\n",
       "2020-07-25    147233\n",
       "2020-08-01    155202\n",
       "2020-08-08    162470\n",
       "2020-08-15    169524\n",
       "2020-08-22    176380\n",
       "2020-08-29    182777\n",
       "2020-09-05    188608\n",
       "2020-09-12    193753\n",
       "2020-09-19    199347\n",
       "2020-09-26    204742\n",
       "2020-10-03    209649\n",
       "2020-10-10    214656\n",
       "2020-10-17    219681\n",
       "2020-10-24    225383\n",
       "2020-10-31    231123\n",
       "2020-11-07    238013\n",
       "2020-11-14    245591\n",
       "Name: US: Cumulative deaths, dtype: int64"
      ]
     },
     "execution_count": 29,
     "metadata": {},
     "output_type": "execute_result"
    }
   ],
   "source": [
    "a"
   ]
  },
  {
   "cell_type": "code",
   "execution_count": 4,
   "metadata": {},
   "outputs": [
    {
     "ename": "AttributeError",
     "evalue": "'Series' object has no attribute 'date'",
     "output_type": "error",
     "traceback": [
      "\u001b[1;31m---------------------------------------------------------------------------\u001b[0m",
      "\u001b[1;31mAttributeError\u001b[0m                            Traceback (most recent call last)",
      "\u001b[1;32m<ipython-input-4-e5c647c67bec>\u001b[0m in \u001b[0;36m<module>\u001b[1;34m\u001b[0m\n\u001b[1;32m----> 1\u001b[1;33m \u001b[0ma\u001b[0m\u001b[1;33m.\u001b[0m\u001b[0mdate\u001b[0m\u001b[1;33m\u001b[0m\u001b[1;33m\u001b[0m\u001b[0m\n\u001b[0m",
      "\u001b[1;32mE:\\ProgramData\\Anaconda3\\lib\\site-packages\\pandas\\core\\generic.py\u001b[0m in \u001b[0;36m__getattr__\u001b[1;34m(self, name)\u001b[0m\n\u001b[0;32m   5177\u001b[0m             \u001b[1;32mif\u001b[0m \u001b[0mself\u001b[0m\u001b[1;33m.\u001b[0m\u001b[0m_info_axis\u001b[0m\u001b[1;33m.\u001b[0m\u001b[0m_can_hold_identifiers_and_holds_name\u001b[0m\u001b[1;33m(\u001b[0m\u001b[0mname\u001b[0m\u001b[1;33m)\u001b[0m\u001b[1;33m:\u001b[0m\u001b[1;33m\u001b[0m\u001b[1;33m\u001b[0m\u001b[0m\n\u001b[0;32m   5178\u001b[0m                 \u001b[1;32mreturn\u001b[0m \u001b[0mself\u001b[0m\u001b[1;33m[\u001b[0m\u001b[0mname\u001b[0m\u001b[1;33m]\u001b[0m\u001b[1;33m\u001b[0m\u001b[1;33m\u001b[0m\u001b[0m\n\u001b[1;32m-> 5179\u001b[1;33m             \u001b[1;32mreturn\u001b[0m \u001b[0mobject\u001b[0m\u001b[1;33m.\u001b[0m\u001b[0m__getattribute__\u001b[0m\u001b[1;33m(\u001b[0m\u001b[0mself\u001b[0m\u001b[1;33m,\u001b[0m \u001b[0mname\u001b[0m\u001b[1;33m)\u001b[0m\u001b[1;33m\u001b[0m\u001b[1;33m\u001b[0m\u001b[0m\n\u001b[0m\u001b[0;32m   5180\u001b[0m \u001b[1;33m\u001b[0m\u001b[0m\n\u001b[0;32m   5181\u001b[0m     \u001b[1;32mdef\u001b[0m \u001b[0m__setattr__\u001b[0m\u001b[1;33m(\u001b[0m\u001b[0mself\u001b[0m\u001b[1;33m,\u001b[0m \u001b[0mname\u001b[0m\u001b[1;33m,\u001b[0m \u001b[0mvalue\u001b[0m\u001b[1;33m)\u001b[0m\u001b[1;33m:\u001b[0m\u001b[1;33m\u001b[0m\u001b[1;33m\u001b[0m\u001b[0m\n",
      "\u001b[1;31mAttributeError\u001b[0m: 'Series' object has no attribute 'date'"
     ]
    }
   ],
   "source": [
    "a.date"
   ]
  },
  {
   "cell_type": "code",
   "execution_count": 5,
   "metadata": {},
   "outputs": [
    {
     "ename": "NameError",
     "evalue": "name 'index' is not defined",
     "output_type": "error",
     "traceback": [
      "\u001b[1;31m---------------------------------------------------------------------------\u001b[0m",
      "\u001b[1;31mNameError\u001b[0m                                 Traceback (most recent call last)",
      "\u001b[1;32m<ipython-input-5-ae61d2572506>\u001b[0m in \u001b[0;36m<module>\u001b[1;34m\u001b[0m\n\u001b[1;32m----> 1\u001b[1;33m \u001b[0mindex\u001b[0m\u001b[1;33m(\u001b[0m\u001b[0ma\u001b[0m\u001b[1;33m)\u001b[0m\u001b[1;33m\u001b[0m\u001b[1;33m\u001b[0m\u001b[0m\n\u001b[0m",
      "\u001b[1;31mNameError\u001b[0m: name 'index' is not defined"
     ]
    }
   ],
   "source": [
    "index(a)"
   ]
  },
  {
   "cell_type": "code",
   "execution_count": 6,
   "metadata": {},
   "outputs": [
    {
     "data": {
      "text/plain": [
       "array([     0,      0,      0,      0,      0,      1,     17,     58,\n",
       "          464,   2891,  10892,  25530,  40567,  55988,  69535,  81817,\n",
       "        91792, 100348, 106985, 113102, 118316, 122540, 126483, 130127,\n",
       "       135359, 140825, 147233, 155202, 162470, 169524, 176380, 182777,\n",
       "       188608, 193753, 199347, 204742, 209649, 214656, 219681, 225383,\n",
       "       231123, 238013, 245591], dtype=int64)"
      ]
     },
     "execution_count": 6,
     "metadata": {},
     "output_type": "execute_result"
    }
   ],
   "source": [
    "a.values"
   ]
  },
  {
   "cell_type": "code",
   "execution_count": 17,
   "metadata": {},
   "outputs": [
    {
     "data": {
      "text/plain": [
       "['2020-01-25',\n",
       " '2020-02-01',\n",
       " '2020-02-08',\n",
       " '2020-02-15',\n",
       " '2020-02-22',\n",
       " '2020-02-29',\n",
       " '2020-03-07',\n",
       " '2020-03-14',\n",
       " '2020-03-21',\n",
       " '2020-03-28',\n",
       " '2020-04-04',\n",
       " '2020-04-11',\n",
       " '2020-04-18',\n",
       " '2020-04-25',\n",
       " '2020-05-02',\n",
       " '2020-05-09',\n",
       " '2020-05-16',\n",
       " '2020-05-23',\n",
       " '2020-05-30',\n",
       " '2020-06-06',\n",
       " '2020-06-13',\n",
       " '2020-06-20',\n",
       " '2020-06-27',\n",
       " '2020-07-04',\n",
       " '2020-07-11',\n",
       " '2020-07-18',\n",
       " '2020-07-25',\n",
       " '2020-08-01',\n",
       " '2020-08-08',\n",
       " '2020-08-15',\n",
       " '2020-08-22',\n",
       " '2020-08-29',\n",
       " '2020-09-05',\n",
       " '2020-09-12',\n",
       " '2020-09-19',\n",
       " '2020-09-26',\n",
       " '2020-10-03',\n",
       " '2020-10-10',\n",
       " '2020-10-17',\n",
       " '2020-10-24',\n",
       " '2020-10-31',\n",
       " '2020-11-07',\n",
       " '2020-11-14']"
      ]
     },
     "execution_count": 17,
     "metadata": {},
     "output_type": "execute_result"
    }
   ],
   "source": [
    "a.index.strftime(\"%Y-%m-%d\").tolist()"
   ]
  },
  {
   "cell_type": "code",
   "execution_count": 14,
   "metadata": {},
   "outputs": [
    {
     "data": {
      "text/plain": [
       "DatetimeIndex(['2020-01-25', '2020-02-01', '2020-02-08', '2020-02-15',\n",
       "               '2020-02-22', '2020-02-29', '2020-03-07', '2020-03-14',\n",
       "               '2020-03-21', '2020-03-28', '2020-04-04', '2020-04-11',\n",
       "               '2020-04-18', '2020-04-25', '2020-05-02', '2020-05-09',\n",
       "               '2020-05-16', '2020-05-23', '2020-05-30', '2020-06-06',\n",
       "               '2020-06-13', '2020-06-20', '2020-06-27', '2020-07-04',\n",
       "               '2020-07-11', '2020-07-18', '2020-07-25', '2020-08-01',\n",
       "               '2020-08-08', '2020-08-15', '2020-08-22', '2020-08-29',\n",
       "               '2020-09-05', '2020-09-12', '2020-09-19', '2020-09-26',\n",
       "               '2020-10-03', '2020-10-10', '2020-10-17', '2020-10-24',\n",
       "               '2020-10-31', '2020-11-07', '2020-11-14'],\n",
       "              dtype='datetime64[ns]', freq=None)"
      ]
     },
     "execution_count": 14,
     "metadata": {},
     "output_type": "execute_result"
    }
   ],
   "source": [
    "a.index"
   ]
  },
  {
   "cell_type": "code",
   "execution_count": 15,
   "metadata": {},
   "outputs": [],
   "source": [
    "bb = getFS('C', \"BPagano\", \"Alabama\", Fdates[0])"
   ]
  },
  {
   "cell_type": "code",
   "execution_count": 16,
   "metadata": {},
   "outputs": [
    {
     "data": {
      "text/html": [
       "<div>\n",
       "<style scoped>\n",
       "    .dataframe tbody tr th:only-of-type {\n",
       "        vertical-align: middle;\n",
       "    }\n",
       "\n",
       "    .dataframe tbody tr th {\n",
       "        vertical-align: top;\n",
       "    }\n",
       "\n",
       "    .dataframe thead th {\n",
       "        text-align: right;\n",
       "    }\n",
       "</style>\n",
       "<table border=\"1\" class=\"dataframe\">\n",
       "  <thead>\n",
       "    <tr style=\"text-align: right;\">\n",
       "      <th></th>\n",
       "      <th>point</th>\n",
       "      <th>quantile_0.025</th>\n",
       "      <th>quantile_0.25</th>\n",
       "      <th>quantile_0.75</th>\n",
       "      <th>quantile_0.975</th>\n",
       "    </tr>\n",
       "    <tr>\n",
       "      <th>target_end_date</th>\n",
       "      <th></th>\n",
       "      <th></th>\n",
       "      <th></th>\n",
       "      <th></th>\n",
       "      <th></th>\n",
       "    </tr>\n",
       "  </thead>\n",
       "  <tbody>\n",
       "    <tr>\n",
       "      <td>2020-10-24</td>\n",
       "      <td>8924.0</td>\n",
       "      <td>5348.0</td>\n",
       "      <td>7666.0</td>\n",
       "      <td>10128.0</td>\n",
       "      <td>12446.0</td>\n",
       "    </tr>\n",
       "    <tr>\n",
       "      <td>2020-10-31</td>\n",
       "      <td>10266.0</td>\n",
       "      <td>5320.0</td>\n",
       "      <td>8526.0</td>\n",
       "      <td>11930.0</td>\n",
       "      <td>15136.0</td>\n",
       "    </tr>\n",
       "    <tr>\n",
       "      <td>2020-11-07</td>\n",
       "      <td>11295.0</td>\n",
       "      <td>4976.0</td>\n",
       "      <td>9072.0</td>\n",
       "      <td>13421.0</td>\n",
       "      <td>17517.0</td>\n",
       "    </tr>\n",
       "    <tr>\n",
       "      <td>2020-11-14</td>\n",
       "      <td>11750.0</td>\n",
       "      <td>4439.0</td>\n",
       "      <td>9178.0</td>\n",
       "      <td>14208.0</td>\n",
       "      <td>18947.0</td>\n",
       "    </tr>\n",
       "    <tr>\n",
       "      <td>2020-11-21</td>\n",
       "      <td>11700.0</td>\n",
       "      <td>3893.0</td>\n",
       "      <td>8953.0</td>\n",
       "      <td>14326.0</td>\n",
       "      <td>19387.0</td>\n",
       "    </tr>\n",
       "    <tr>\n",
       "      <td>2020-11-28</td>\n",
       "      <td>11328.0</td>\n",
       "      <td>3439.0</td>\n",
       "      <td>8553.0</td>\n",
       "      <td>13982.0</td>\n",
       "      <td>19096.0</td>\n",
       "    </tr>\n",
       "    <tr>\n",
       "      <td>2020-12-05</td>\n",
       "      <td>10748.0</td>\n",
       "      <td>3095.0</td>\n",
       "      <td>8055.0</td>\n",
       "      <td>13322.0</td>\n",
       "      <td>18282.0</td>\n",
       "    </tr>\n",
       "    <tr>\n",
       "      <td>2020-12-12</td>\n",
       "      <td>10075.0</td>\n",
       "      <td>2879.0</td>\n",
       "      <td>7543.0</td>\n",
       "      <td>12495.0</td>\n",
       "      <td>17159.0</td>\n",
       "    </tr>\n",
       "  </tbody>\n",
       "</table>\n",
       "</div>"
      ],
      "text/plain": [
       "                   point  quantile_0.025  quantile_0.25  quantile_0.75  \\\n",
       "target_end_date                                                          \n",
       "2020-10-24        8924.0          5348.0         7666.0        10128.0   \n",
       "2020-10-31       10266.0          5320.0         8526.0        11930.0   \n",
       "2020-11-07       11295.0          4976.0         9072.0        13421.0   \n",
       "2020-11-14       11750.0          4439.0         9178.0        14208.0   \n",
       "2020-11-21       11700.0          3893.0         8953.0        14326.0   \n",
       "2020-11-28       11328.0          3439.0         8553.0        13982.0   \n",
       "2020-12-05       10748.0          3095.0         8055.0        13322.0   \n",
       "2020-12-12       10075.0          2879.0         7543.0        12495.0   \n",
       "\n",
       "                 quantile_0.975  \n",
       "target_end_date                  \n",
       "2020-10-24              12446.0  \n",
       "2020-10-31              15136.0  \n",
       "2020-11-07              17517.0  \n",
       "2020-11-14              18947.0  \n",
       "2020-11-21              19387.0  \n",
       "2020-11-28              19096.0  \n",
       "2020-12-05              18282.0  \n",
       "2020-12-12              17159.0  "
      ]
     },
     "execution_count": 16,
     "metadata": {},
     "output_type": "execute_result"
    }
   ],
   "source": [
    "bb"
   ]
  },
  {
   "cell_type": "code",
   "execution_count": 11,
   "metadata": {},
   "outputs": [
    {
     "data": {
      "text/plain": [
       "2020-01-25         0\n",
       "2020-02-01         0\n",
       "2020-02-08         0\n",
       "2020-02-15         0\n",
       "2020-02-22         0\n",
       "2020-02-29         0\n",
       "2020-03-07         0\n",
       "2020-03-14         7\n",
       "2020-03-21       131\n",
       "2020-03-28       694\n",
       "2020-04-04      1614\n",
       "2020-04-11      3217\n",
       "2020-04-18      4712\n",
       "2020-04-25      6026\n",
       "2020-05-02      7611\n",
       "2020-05-09      9668\n",
       "2020-05-16     11674\n",
       "2020-05-23     14117\n",
       "2020-05-30     17359\n",
       "2020-06-06     20043\n",
       "2020-06-13     24601\n",
       "2020-06-20     29549\n",
       "2020-06-27     35083\n",
       "2020-07-04     42862\n",
       "2020-07-11     51947\n",
       "2020-07-18     65234\n",
       "2020-07-25     78130\n",
       "2020-08-01     89349\n",
       "2020-08-08    100173\n",
       "2020-08-15    107580\n",
       "2020-08-22    114532\n",
       "2020-08-29    123889\n",
       "2020-09-05    131803\n",
       "2020-09-12    137646\n",
       "2020-09-19    144164\n",
       "2020-09-26    151591\n",
       "2020-10-03    158380\n",
       "2020-10-10    164526\n",
       "2020-10-17    171662\n",
       "2020-10-24    183276\n",
       "2020-10-31    192285\n",
       "2020-11-07    202482\n",
       "2020-11-14    215843\n",
       "Name: Alabama: Cumulative cases, dtype: int64"
      ]
     },
     "execution_count": 11,
     "metadata": {},
     "output_type": "execute_result"
    }
   ],
   "source": [
    "a = getRS('C',\"Alabama\")\n",
    "a"
   ]
  },
  {
   "cell_type": "code",
   "execution_count": 2,
   "metadata": {},
   "outputs": [],
   "source": [
    "bb = getFS('C', \"CMU\", \"Alaska\", Fdates[0])\n"
   ]
  },
  {
   "cell_type": "code",
   "execution_count": 26,
   "metadata": {},
   "outputs": [
    {
     "name": "stdout",
     "output_type": "stream",
     "text": [
      "2020-10-19\n"
     ]
    }
   ],
   "source": [
    "for date in Fdates:\n",
    "    print(date)"
   ]
  },
  {
   "cell_type": "code",
   "execution_count": 20,
   "metadata": {},
   "outputs": [
    {
     "data": {
      "text/plain": [
       "['2020-10-24',\n",
       " '2020-10-31',\n",
       " '2020-11-07',\n",
       " '2020-11-14',\n",
       " '2020-11-21',\n",
       " '2020-11-28',\n",
       " '2020-12-05',\n",
       " '2020-12-12']"
      ]
     },
     "execution_count": 20,
     "metadata": {},
     "output_type": "execute_result"
    }
   ],
   "source": [
    "[str(i) for i in bb.index.strftime(\"%Y-%m-%d\").tolist()]"
   ]
  },
  {
   "cell_type": "code",
   "execution_count": 7,
   "metadata": {},
   "outputs": [
    {
     "name": "stdout",
     "output_type": "stream",
     "text": [
      "Collecting PyGithub\n",
      "  Downloading https://files.pythonhosted.org/packages/86/87/8ce81695f851697d4112f4c0ce43346b7b0ca52ea6b9e81e65bfedb82f4a/PyGithub-1.53-py3-none-any.whl (274kB)\n",
      "Collecting pyjwt (from PyGithub)\n",
      "  Downloading https://files.pythonhosted.org/packages/87/8b/6a9f14b5f781697e51259d81657e6048fd31a113229cf346880bb7545565/PyJWT-1.7.1-py2.py3-none-any.whl\n",
      "Requirement already satisfied: requests>=2.14.0 in e:\\programdata\\anaconda3\\lib\\site-packages (from PyGithub) (2.22.0)\n",
      "Collecting deprecated (from PyGithub)\n",
      "  Downloading https://files.pythonhosted.org/packages/76/a1/05d7f62f956d77b23a640efc650f80ce24483aa2f85a09c03fb64f49e879/Deprecated-1.2.10-py2.py3-none-any.whl\n",
      "Requirement already satisfied: certifi>=2017.4.17 in e:\\programdata\\anaconda3\\lib\\site-packages (from requests>=2.14.0->PyGithub) (2019.9.11)\n",
      "Requirement already satisfied: chardet<3.1.0,>=3.0.2 in e:\\programdata\\anaconda3\\lib\\site-packages (from requests>=2.14.0->PyGithub) (3.0.4)\n",
      "Requirement already satisfied: urllib3!=1.25.0,!=1.25.1,<1.26,>=1.21.1 in e:\\programdata\\anaconda3\\lib\\site-packages (from requests>=2.14.0->PyGithub) (1.24.2)\n",
      "Requirement already satisfied: idna<2.9,>=2.5 in e:\\programdata\\anaconda3\\lib\\site-packages (from requests>=2.14.0->PyGithub) (2.8)\n",
      "Requirement already satisfied: wrapt<2,>=1.10 in e:\\programdata\\anaconda3\\lib\\site-packages (from deprecated->PyGithub) (1.11.2)\n",
      "Installing collected packages: pyjwt, deprecated, PyGithub\n",
      "Successfully installed PyGithub-1.53 deprecated-1.2.10 pyjwt-1.7.1\n",
      "Note: you may need to restart the kernel to use updated packages.\n"
     ]
    }
   ],
   "source": [
    "pip install PyGithub"
   ]
  },
  {
   "cell_type": "code",
   "execution_count": 11,
   "metadata": {},
   "outputs": [],
   "source": [
    "from github import Github"
   ]
  },
  {
   "cell_type": "code",
   "execution_count": 19,
   "metadata": {},
   "outputs": [
    {
     "data": {
      "text/plain": [
       "Repository(full_name=\"PyGithub/PyGithub\")"
      ]
     },
     "execution_count": 19,
     "metadata": {},
     "output_type": "execute_result"
    }
   ],
   "source": [
    "g.get_repo(\"PyGithub/PyGithub\")"
   ]
  },
  {
   "cell_type": "code",
   "execution_count": 18,
   "metadata": {},
   "outputs": [
    {
     "data": {
      "text/plain": [
       "<github.MainClass.Github at 0x1b584d28e48>"
      ]
     },
     "execution_count": 18,
     "metadata": {},
     "output_type": "execute_result"
    }
   ],
   "source": [
    "g"
   ]
  },
  {
   "cell_type": "code",
   "execution_count": 23,
   "metadata": {},
   "outputs": [],
   "source": [
    "repo = g.get_repo(\"andreaierardi/discovider19\")"
   ]
  },
  {
   "cell_type": "code",
   "execution_count": 24,
   "metadata": {},
   "outputs": [
    {
     "data": {
      "text/plain": [
       "['covid-19', 'pandemic', 'prediction', 'shinyapp', 'paper', 'study-project']"
      ]
     },
     "execution_count": 24,
     "metadata": {},
     "output_type": "execute_result"
    }
   ],
   "source": [
    "repo.get_topics()"
   ]
  },
  {
   "cell_type": "code",
   "execution_count": 25,
   "metadata": {},
   "outputs": [],
   "source": [
    "contents = repo.get_contents(\"\")"
   ]
  },
  {
   "cell_type": "code",
   "execution_count": 26,
   "metadata": {},
   "outputs": [
    {
     "data": {
      "text/plain": [
       "[ContentFile(path=\".Rbuildignore\"),\n",
       " ContentFile(path=\".gitignore\"),\n",
       " ContentFile(path=\"Covid_19.Rproj\"),\n",
       " ContentFile(path=\"DESCRIPTION\"),\n",
       " ContentFile(path=\"Documentation\"),\n",
       " ContentFile(path=\"LICENSE\"),\n",
       " ContentFile(path=\"NAMESPACE\"),\n",
       " ContentFile(path=\"R\"),\n",
       " ContentFile(path=\"README.md\"),\n",
       " ContentFile(path=\"data\"),\n",
       " ContentFile(path=\"inst\"),\n",
       " ContentFile(path=\"man\")]"
      ]
     },
     "execution_count": 26,
     "metadata": {},
     "output_type": "execute_result"
    }
   ],
   "source": [
    "contents"
   ]
  },
  {
   "cell_type": "code",
   "execution_count": 3,
   "metadata": {},
   "outputs": [
    {
     "data": {
      "text/plain": [
       "0         Alabama\n",
       "1         Alabama\n",
       "2         Alabama\n",
       "3         Alabama\n",
       "4         Alabama\n",
       "           ...   \n",
       "236674    Wyoming\n",
       "236675    Wyoming\n",
       "236676    Wyoming\n",
       "236677    Wyoming\n",
       "236678    Wyoming\n",
       "Name: State, Length: 6650, dtype: object"
      ]
     },
     "execution_count": 3,
     "metadata": {},
     "output_type": "execute_result"
    }
   ],
   "source": [
    "FC.State"
   ]
  },
  {
   "cell_type": "code",
   "execution_count": 22,
   "metadata": {},
   "outputs": [],
   "source": [
    "l = FC[FC.location_name == \"Arkansas\"]"
   ]
  },
  {
   "cell_type": "code",
   "execution_count": 23,
   "metadata": {},
   "outputs": [
    {
     "data": {
      "text/plain": [
       "array(['1 wk ahead inc case', '2 wk ahead inc case',\n",
       "       '3 wk ahead inc case', '4 wk ahead inc case',\n",
       "       '5 wk ahead inc case', '6 wk ahead inc case',\n",
       "       '7 wk ahead inc case', '8 wk ahead inc case'], dtype=object)"
      ]
     },
     "execution_count": 23,
     "metadata": {},
     "output_type": "execute_result"
    }
   ],
   "source": [
    " l.target.unique()\n",
    "t"
   ]
  },
  {
   "cell_type": "code",
   "execution_count": 25,
   "metadata": {},
   "outputs": [
    {
     "name": "stdout",
     "output_type": "stream",
     "text": [
      "remove cum death\n",
      "remove inc death\n",
      "remove cum case\n"
     ]
    }
   ],
   "source": [
    "lis = [\"cum death\", \"inc death\" , \"inc case\", \"cum case\"]\n",
    "for i in lis:\n",
    "        if not l[l.target.apply(str.endswith, args=(i, 0)) == True].model.unique().tolist():\n",
    "            print(\"remove\", i)"
   ]
  },
  {
   "cell_type": "code",
   "execution_count": 6,
   "metadata": {},
   "outputs": [
    {
     "data": {
      "text/plain": [
       "['BPagano',\n",
       " 'UGA-CEID',\n",
       " 'Columbia-UNC',\n",
       " 'Covid19Sim',\n",
       " 'MIT-ORC',\n",
       " 'Ensemble',\n",
       " 'Columbia',\n",
       " 'DDS',\n",
       " 'LSHTM',\n",
       " 'Geneva',\n",
       " 'Google-HSPH',\n",
       " 'GT-DeepCOVID',\n",
       " 'IHME',\n",
       " 'ISU',\n",
       " 'JCB',\n",
       " 'JHU-CSSE',\n",
       " 'JHU-IDD',\n",
       " 'JHU-APL',\n",
       " 'Karlen',\n",
       " 'LANL',\n",
       " 'LNQ',\n",
       " 'MIT-LCP',\n",
       " 'MIT-CovAlliance',\n",
       " 'MOBS',\n",
       " 'MSRA',\n",
       " 'NotreDame-Mobility',\n",
       " 'Oliver Wyman',\n",
       " 'PSI',\n",
       " 'ESG',\n",
       " 'RPI-UW',\n",
       " 'CovidComplete',\n",
       " 'TTU',\n",
       " 'UA',\n",
       " 'UCLA',\n",
       " 'UCSD-NEU',\n",
       " 'UMass-MB',\n",
       " 'UM',\n",
       " 'USC',\n",
       " 'UT',\n",
       " 'Walmart',\n",
       " 'CMU']"
      ]
     },
     "execution_count": 6,
     "metadata": {},
     "output_type": "execute_result"
    }
   ],
   "source": [
    "l.model.unique().tolist()"
   ]
  },
  {
   "cell_type": "code",
   "execution_count": 44,
   "metadata": {},
   "outputs": [
    {
     "data": {
      "text/html": [
       "<div>\n",
       "<style scoped>\n",
       "    .dataframe tbody tr th:only-of-type {\n",
       "        vertical-align: middle;\n",
       "    }\n",
       "\n",
       "    .dataframe tbody tr th {\n",
       "        vertical-align: top;\n",
       "    }\n",
       "\n",
       "    .dataframe thead th {\n",
       "        text-align: right;\n",
       "    }\n",
       "</style>\n",
       "<table border=\"1\" class=\"dataframe\">\n",
       "  <thead>\n",
       "    <tr style=\"text-align: right;\">\n",
       "      <th></th>\n",
       "      <th>point</th>\n",
       "      <th>quantile_0.025</th>\n",
       "      <th>quantile_0.25</th>\n",
       "      <th>quantile_0.75</th>\n",
       "      <th>quantile_0.975</th>\n",
       "    </tr>\n",
       "    <tr>\n",
       "      <th>target_week_end_date</th>\n",
       "      <th></th>\n",
       "      <th></th>\n",
       "      <th></th>\n",
       "      <th></th>\n",
       "      <th></th>\n",
       "    </tr>\n",
       "  </thead>\n",
       "  <tbody>\n",
       "    <tr>\n",
       "      <td>2020-10-24</td>\n",
       "      <td>182.0</td>\n",
       "      <td>110.0</td>\n",
       "      <td>156.0</td>\n",
       "      <td>206.0</td>\n",
       "      <td>252.0</td>\n",
       "    </tr>\n",
       "    <tr>\n",
       "      <td>2020-10-31</td>\n",
       "      <td>218.0</td>\n",
       "      <td>128.0</td>\n",
       "      <td>186.0</td>\n",
       "      <td>248.0</td>\n",
       "      <td>306.0</td>\n",
       "    </tr>\n",
       "    <tr>\n",
       "      <td>2020-11-07</td>\n",
       "      <td>250.0</td>\n",
       "      <td>138.0</td>\n",
       "      <td>211.0</td>\n",
       "      <td>288.0</td>\n",
       "      <td>361.0</td>\n",
       "    </tr>\n",
       "    <tr>\n",
       "      <td>2020-11-14</td>\n",
       "      <td>276.0</td>\n",
       "      <td>138.0</td>\n",
       "      <td>227.0</td>\n",
       "      <td>322.0</td>\n",
       "      <td>411.0</td>\n",
       "    </tr>\n",
       "  </tbody>\n",
       "</table>\n",
       "</div>"
      ],
      "text/plain": [
       "                      point  quantile_0.025  quantile_0.25  quantile_0.75  \\\n",
       "target_week_end_date                                                        \n",
       "2020-10-24            182.0           110.0          156.0          206.0   \n",
       "2020-10-31            218.0           128.0          186.0          248.0   \n",
       "2020-11-07            250.0           138.0          211.0          288.0   \n",
       "2020-11-14            276.0           138.0          227.0          322.0   \n",
       "\n",
       "                      quantile_0.975  \n",
       "target_week_end_date                  \n",
       "2020-10-24                     252.0  \n",
       "2020-10-31                     306.0  \n",
       "2020-11-07                     361.0  \n",
       "2020-11-14                     411.0  "
      ]
     },
     "execution_count": 44,
     "metadata": {},
     "output_type": "execute_result"
    }
   ],
   "source": [
    "data2 = getFS(\"id\", \"BPagano\", \"Alabama\", Fdates[0])\n",
    "data2"
   ]
  },
  {
   "cell_type": "code",
   "execution_count": 47,
   "metadata": {},
   "outputs": [
    {
     "data": {
      "text/plain": [
       "['2020-10-24', '2020-10-31', '2020-11-07', '2020-11-14']"
      ]
     },
     "execution_count": 47,
     "metadata": {},
     "output_type": "execute_result"
    }
   ],
   "source": [
    "index2 = data2.index.strftime(\"%Y-%m-%d\").tolist()\n",
    "index2"
   ]
  },
  {
   "cell_type": "code",
   "execution_count": 59,
   "metadata": {},
   "outputs": [
    {
     "data": {
      "text/plain": [
       "[1603497600000, 1604102400000, 1604707200000, 1605312000000]"
      ]
     },
     "execution_count": 59,
     "metadata": {},
     "output_type": "execute_result"
    }
   ],
   "source": [
    "first_date = datetime.datetime(1970, 1, 1)\n",
    "\n",
    "[ int( (datetime.datetime.strptime(d, \"%Y-%m-%d\") - first_date).total_seconds())*1000 for d in index2 ]"
   ]
  },
  {
   "cell_type": "code",
   "execution_count": null,
   "metadata": {},
   "outputs": [],
   "source": []
  },
  {
   "cell_type": "code",
   "execution_count": 43,
   "metadata": {},
   "outputs": [
    {
     "ename": "TypeError",
     "evalue": "strptime() argument 1 must be str, not list",
     "output_type": "error",
     "traceback": [
      "\u001b[1;31m---------------------------------------------------------------------------\u001b[0m",
      "\u001b[1;31mTypeError\u001b[0m                                 Traceback (most recent call last)",
      "\u001b[1;32m<ipython-input-43-2da6339ca3d5>\u001b[0m in \u001b[0;36m<module>\u001b[1;34m\u001b[0m\n\u001b[1;32m----> 1\u001b[1;33m \u001b[0mdatetime\u001b[0m\u001b[1;33m.\u001b[0m\u001b[0mdatetime\u001b[0m\u001b[1;33m.\u001b[0m\u001b[0mstrptime\u001b[0m\u001b[1;33m(\u001b[0m\u001b[0mdata2\u001b[0m\u001b[1;33m.\u001b[0m\u001b[0mindex\u001b[0m\u001b[1;33m.\u001b[0m\u001b[0mstrftime\u001b[0m\u001b[1;33m(\u001b[0m\u001b[1;34m\"%Y-%m-%d\"\u001b[0m\u001b[1;33m)\u001b[0m\u001b[1;33m.\u001b[0m\u001b[0mtolist\u001b[0m\u001b[1;33m(\u001b[0m\u001b[1;33m)\u001b[0m\u001b[1;33m,\u001b[0m \u001b[1;34m\"%Y-%m-%d\"\u001b[0m\u001b[1;33m)\u001b[0m\u001b[1;33m\u001b[0m\u001b[1;33m\u001b[0m\u001b[0m\n\u001b[0m",
      "\u001b[1;31mTypeError\u001b[0m: strptime() argument 1 must be str, not list"
     ]
    }
   ],
   "source": [
    "datetime.datetime.strptime(data2.index.strftime(\"%Y-%m-%d\").tolist(), \"%Y-%m-%d\")"
   ]
  },
  {
   "cell_type": "code",
   "execution_count": 42,
   "metadata": {},
   "outputs": [
    {
     "data": {
      "text/plain": [
       "[datetime.datetime(2020, 10, 24, 0, 0),\n",
       " datetime.datetime(2020, 10, 31, 0, 0),\n",
       " datetime.datetime(2020, 11, 7, 0, 0),\n",
       " datetime.datetime(2020, 11, 14, 0, 0)]"
      ]
     },
     "execution_count": 42,
     "metadata": {},
     "output_type": "execute_result"
    }
   ],
   "source": []
  },
  {
   "cell_type": "code",
   "execution_count": 50,
   "metadata": {},
   "outputs": [],
   "source": [
    "array = data2.values[:,1:]"
   ]
  },
  {
   "cell_type": "code",
   "execution_count": 51,
   "metadata": {},
   "outputs": [
    {
     "name": "stdout",
     "output_type": "stream",
     "text": [
      "True\n"
     ]
    }
   ],
   "source": [
    "array_sum = np.sum(array)\n",
    "\n",
    "array_has_nan = np.isnan(array_sum)\n",
    "\n",
    "\n",
    "print(array_has_nan)"
   ]
  },
  {
   "cell_type": "code",
   "execution_count": null,
   "metadata": {},
   "outputs": [],
   "source": []
  },
  {
   "cell_type": "code",
   "execution_count": 53,
   "metadata": {},
   "outputs": [
    {
     "data": {
      "text/plain": [
       "array([[nan, nan, nan, nan],\n",
       "       [nan, nan, nan, nan],\n",
       "       [nan, nan, nan, nan],\n",
       "       [nan, nan, nan, nan],\n",
       "       [nan, nan, nan, nan],\n",
       "       [nan, nan, nan, nan],\n",
       "       [nan, nan, nan, nan],\n",
       "       [nan, nan, nan, nan]])"
      ]
     },
     "execution_count": 53,
     "metadata": {},
     "output_type": "execute_result"
    }
   ],
   "source": [
    "array"
   ]
  },
  {
   "cell_type": "code",
   "execution_count": 54,
   "metadata": {},
   "outputs": [
    {
     "ename": "TypeError",
     "evalue": "'int' object is not iterable",
     "output_type": "error",
     "traceback": [
      "\u001b[1;31m---------------------------------------------------------------------------\u001b[0m",
      "\u001b[1;31mTypeError\u001b[0m                                 Traceback (most recent call last)",
      "\u001b[1;32m<ipython-input-54-23aec9e3e2c3>\u001b[0m in \u001b[0;36m<module>\u001b[1;34m\u001b[0m\n\u001b[1;32m----> 1\u001b[1;33m \u001b[0mlist\u001b[0m\u001b[1;33m(\u001b[0m\u001b[1;33m-\u001b[0m\u001b[1;36m1\u001b[0m\u001b[1;33m)\u001b[0m\u001b[1;33m\u001b[0m\u001b[1;33m\u001b[0m\u001b[0m\n\u001b[0m",
      "\u001b[1;31mTypeError\u001b[0m: 'int' object is not iterable"
     ]
    }
   ],
   "source": [
    "list(-1)"
   ]
  },
  {
   "cell_type": "code",
   "execution_count": 55,
   "metadata": {},
   "outputs": [
    {
     "data": {
      "text/plain": [
       "[-1]"
      ]
     },
     "execution_count": 55,
     "metadata": {},
     "output_type": "execute_result"
    }
   ],
   "source": [
    "[-1]"
   ]
  },
  {
   "cell_type": "code",
   "execution_count": 26,
   "metadata": {},
   "outputs": [],
   "source": [
    "namedict = {\n",
    "  \"cc\": \"cum case\",\n",
    "  \"cd\": \"cum death\",\n",
    "  \"ic\": \"inc case\",\n",
    "  \"id\": \"inc death\"\n",
    "}\n"
   ]
  },
  {
   "cell_type": "code",
   "execution_count": 28,
   "metadata": {},
   "outputs": [
    {
     "data": {
      "text/plain": [
       "'cum case'"
      ]
     },
     "execution_count": 28,
     "metadata": {},
     "output_type": "execute_result"
    }
   ],
   "source": [
    "namedict[\"cc\"]"
   ]
  },
  {
   "cell_type": "code",
   "execution_count": 31,
   "metadata": {},
   "outputs": [
    {
     "data": {
      "text/html": [
       "<div>\n",
       "<style scoped>\n",
       "    .dataframe tbody tr th:only-of-type {\n",
       "        vertical-align: middle;\n",
       "    }\n",
       "\n",
       "    .dataframe tbody tr th {\n",
       "        vertical-align: top;\n",
       "    }\n",
       "\n",
       "    .dataframe thead th {\n",
       "        text-align: right;\n",
       "    }\n",
       "</style>\n",
       "<table border=\"1\" class=\"dataframe\">\n",
       "  <thead>\n",
       "    <tr style=\"text-align: right;\">\n",
       "      <th></th>\n",
       "      <th>model</th>\n",
       "      <th>forecast_date</th>\n",
       "      <th>target</th>\n",
       "      <th>target_week_end_date</th>\n",
       "      <th>location_name</th>\n",
       "      <th>point</th>\n",
       "      <th>quantile_0.025</th>\n",
       "      <th>quantile_0.25</th>\n",
       "      <th>quantile_0.75</th>\n",
       "      <th>quantile_0.975</th>\n",
       "    </tr>\n",
       "  </thead>\n",
       "  <tbody>\n",
       "    <tr>\n",
       "      <td>0</td>\n",
       "      <td>BPagano</td>\n",
       "      <td>2020-10-19</td>\n",
       "      <td>1 wk ahead cum death</td>\n",
       "      <td>2020-10-24</td>\n",
       "      <td>Alabama</td>\n",
       "      <td>2969</td>\n",
       "      <td>2898.0</td>\n",
       "      <td>2944.0</td>\n",
       "      <td>2994.0</td>\n",
       "      <td>3040.0</td>\n",
       "    </tr>\n",
       "    <tr>\n",
       "      <td>53</td>\n",
       "      <td>BPagano</td>\n",
       "      <td>2020-10-19</td>\n",
       "      <td>2 wk ahead cum death</td>\n",
       "      <td>2020-10-31</td>\n",
       "      <td>Alabama</td>\n",
       "      <td>3187</td>\n",
       "      <td>3027.0</td>\n",
       "      <td>3130.0</td>\n",
       "      <td>3241.0</td>\n",
       "      <td>3345.0</td>\n",
       "    </tr>\n",
       "    <tr>\n",
       "      <td>106</td>\n",
       "      <td>BPagano</td>\n",
       "      <td>2020-10-19</td>\n",
       "      <td>3 wk ahead cum death</td>\n",
       "      <td>2020-11-07</td>\n",
       "      <td>Alabama</td>\n",
       "      <td>3438</td>\n",
       "      <td>3166.0</td>\n",
       "      <td>3342.0</td>\n",
       "      <td>3529.0</td>\n",
       "      <td>3705.0</td>\n",
       "    </tr>\n",
       "    <tr>\n",
       "      <td>159</td>\n",
       "      <td>BPagano</td>\n",
       "      <td>2020-10-19</td>\n",
       "      <td>4 wk ahead cum death</td>\n",
       "      <td>2020-11-14</td>\n",
       "      <td>Alabama</td>\n",
       "      <td>3713</td>\n",
       "      <td>3304.0</td>\n",
       "      <td>3569.0</td>\n",
       "      <td>3851.0</td>\n",
       "      <td>4116.0</td>\n",
       "    </tr>\n",
       "    <tr>\n",
       "      <td>212</td>\n",
       "      <td>UGA-CEID</td>\n",
       "      <td>2020-10-19</td>\n",
       "      <td>1 wk ahead cum death</td>\n",
       "      <td>2020-10-24</td>\n",
       "      <td>Alabama</td>\n",
       "      <td>2917</td>\n",
       "      <td>2858.0</td>\n",
       "      <td>2893.0</td>\n",
       "      <td>2933.0</td>\n",
       "      <td>2964.0</td>\n",
       "    </tr>\n",
       "    <tr>\n",
       "      <td>...</td>\n",
       "      <td>...</td>\n",
       "      <td>...</td>\n",
       "      <td>...</td>\n",
       "      <td>...</td>\n",
       "      <td>...</td>\n",
       "      <td>...</td>\n",
       "      <td>...</td>\n",
       "      <td>...</td>\n",
       "      <td>...</td>\n",
       "      <td>...</td>\n",
       "    </tr>\n",
       "    <tr>\n",
       "      <td>8032</td>\n",
       "      <td>UT</td>\n",
       "      <td>2020-10-19</td>\n",
       "      <td>4 wk ahead cum death</td>\n",
       "      <td>2020-11-14</td>\n",
       "      <td>Alabama</td>\n",
       "      <td>3114</td>\n",
       "      <td>2904.0</td>\n",
       "      <td>3011.0</td>\n",
       "      <td>3292.0</td>\n",
       "      <td>3929.0</td>\n",
       "    </tr>\n",
       "    <tr>\n",
       "      <td>8084</td>\n",
       "      <td>Walmart</td>\n",
       "      <td>2020-10-19</td>\n",
       "      <td>1 wk ahead cum death</td>\n",
       "      <td>2020-10-24</td>\n",
       "      <td>Alabama</td>\n",
       "      <td>2858</td>\n",
       "      <td>2761.0</td>\n",
       "      <td>2824.0</td>\n",
       "      <td>2888.0</td>\n",
       "      <td>2943.0</td>\n",
       "    </tr>\n",
       "    <tr>\n",
       "      <td>8141</td>\n",
       "      <td>Walmart</td>\n",
       "      <td>2020-10-19</td>\n",
       "      <td>2 wk ahead cum death</td>\n",
       "      <td>2020-10-31</td>\n",
       "      <td>Alabama</td>\n",
       "      <td>2924</td>\n",
       "      <td>2827.0</td>\n",
       "      <td>2886.0</td>\n",
       "      <td>2954.0</td>\n",
       "      <td>3016.0</td>\n",
       "    </tr>\n",
       "    <tr>\n",
       "      <td>8198</td>\n",
       "      <td>Walmart</td>\n",
       "      <td>2020-10-19</td>\n",
       "      <td>3 wk ahead cum death</td>\n",
       "      <td>2020-11-07</td>\n",
       "      <td>Alabama</td>\n",
       "      <td>2995</td>\n",
       "      <td>2890.0</td>\n",
       "      <td>2950.0</td>\n",
       "      <td>3048.0</td>\n",
       "      <td>3101.0</td>\n",
       "    </tr>\n",
       "    <tr>\n",
       "      <td>8255</td>\n",
       "      <td>Walmart</td>\n",
       "      <td>2020-10-19</td>\n",
       "      <td>4 wk ahead cum death</td>\n",
       "      <td>2020-11-14</td>\n",
       "      <td>Alabama</td>\n",
       "      <td>3034</td>\n",
       "      <td>2941.0</td>\n",
       "      <td>3001.0</td>\n",
       "      <td>3066.0</td>\n",
       "      <td>3128.0</td>\n",
       "    </tr>\n",
       "  </tbody>\n",
       "</table>\n",
       "<p>157 rows × 10 columns</p>\n",
       "</div>"
      ],
      "text/plain": [
       "         model forecast_date                target target_week_end_date  \\\n",
       "0      BPagano    2020-10-19  1 wk ahead cum death           2020-10-24   \n",
       "53     BPagano    2020-10-19  2 wk ahead cum death           2020-10-31   \n",
       "106    BPagano    2020-10-19  3 wk ahead cum death           2020-11-07   \n",
       "159    BPagano    2020-10-19  4 wk ahead cum death           2020-11-14   \n",
       "212   UGA-CEID    2020-10-19  1 wk ahead cum death           2020-10-24   \n",
       "...        ...           ...                   ...                  ...   \n",
       "8032        UT    2020-10-19  4 wk ahead cum death           2020-11-14   \n",
       "8084   Walmart    2020-10-19  1 wk ahead cum death           2020-10-24   \n",
       "8141   Walmart    2020-10-19  2 wk ahead cum death           2020-10-31   \n",
       "8198   Walmart    2020-10-19  3 wk ahead cum death           2020-11-07   \n",
       "8255   Walmart    2020-10-19  4 wk ahead cum death           2020-11-14   \n",
       "\n",
       "     location_name  point  quantile_0.025  quantile_0.25  quantile_0.75  \\\n",
       "0          Alabama   2969          2898.0         2944.0         2994.0   \n",
       "53         Alabama   3187          3027.0         3130.0         3241.0   \n",
       "106        Alabama   3438          3166.0         3342.0         3529.0   \n",
       "159        Alabama   3713          3304.0         3569.0         3851.0   \n",
       "212        Alabama   2917          2858.0         2893.0         2933.0   \n",
       "...            ...    ...             ...            ...            ...   \n",
       "8032       Alabama   3114          2904.0         3011.0         3292.0   \n",
       "8084       Alabama   2858          2761.0         2824.0         2888.0   \n",
       "8141       Alabama   2924          2827.0         2886.0         2954.0   \n",
       "8198       Alabama   2995          2890.0         2950.0         3048.0   \n",
       "8255       Alabama   3034          2941.0         3001.0         3066.0   \n",
       "\n",
       "      quantile_0.975  \n",
       "0             3040.0  \n",
       "53            3345.0  \n",
       "106           3705.0  \n",
       "159           4116.0  \n",
       "212           2964.0  \n",
       "...              ...  \n",
       "8032          3929.0  \n",
       "8084          2943.0  \n",
       "8141          3016.0  \n",
       "8198          3101.0  \n",
       "8255          3128.0  \n",
       "\n",
       "[157 rows x 10 columns]"
      ]
     },
     "execution_count": 31,
     "metadata": {},
     "output_type": "execute_result"
    }
   ],
   "source": [
    "tmp =  FD[FD.location_name == \"Alabama\"] \n",
    "tmp[tmp.target.apply(str.endswith, args=(\"cum death\", 0)) == True ]"
   ]
  },
  {
   "cell_type": "code",
   "execution_count": 34,
   "metadata": {},
   "outputs": [],
   "source": [
    "test = [\"cc\",\"cd\",\"ic\",\"id\"]\n",
    "\n",
    "radio_filter = [\"cc\",\"ic\"]"
   ]
  },
  {
   "cell_type": "code",
   "execution_count": 33,
   "metadata": {},
   "outputs": [
    {
     "name": "stdout",
     "output_type": "stream",
     "text": [
      "cd\n",
      "id\n"
     ]
    }
   ],
   "source": [
    "for i in test:\n",
    "    if i not in new:\n",
    "        print(i)"
   ]
  },
  {
   "cell_type": "code",
   "execution_count": 36,
   "metadata": {},
   "outputs": [],
   "source": [
    "radio_activate =[]\n",
    "for i in [\"cum case\",\"inc case\",\"cum death\",\"inc death\"]:\n",
    "        if i not in radio_filter:\n",
    "            radio_activate.append(i)"
   ]
  },
  {
   "cell_type": "code",
   "execution_count": 37,
   "metadata": {},
   "outputs": [
    {
     "data": {
      "text/plain": [
       "['cum case', 'inc case', 'cum death', 'inc death']"
      ]
     },
     "execution_count": 37,
     "metadata": {},
     "output_type": "execute_result"
    }
   ],
   "source": [
    "radio_activate"
   ]
  },
  {
   "cell_type": "code",
   "execution_count": 6,
   "metadata": {},
   "outputs": [
    {
     "data": {
      "text/plain": [
       "array(['1 wk ahead inc case', '2 wk ahead inc case',\n",
       "       '3 wk ahead inc case', '4 wk ahead inc case',\n",
       "       '5 wk ahead inc case', '6 wk ahead inc case',\n",
       "       '7 wk ahead inc case', '8 wk ahead inc case'], dtype=object)"
      ]
     },
     "execution_count": 6,
     "metadata": {},
     "output_type": "execute_result"
    }
   ],
   "source": [
    "FC.target.unique()"
   ]
  },
  {
   "cell_type": "code",
   "execution_count": 13,
   "metadata": {},
   "outputs": [],
   "source": [
    "a = [\"ok\",\"no\"]\n",
    "b = [1,2]"
   ]
  },
  {
   "cell_type": "code",
   "execution_count": 15,
   "metadata": {},
   "outputs": [],
   "source": [
    "z = zip(a,b)"
   ]
  },
  {
   "cell_type": "code",
   "execution_count": 17,
   "metadata": {},
   "outputs": [
    {
     "data": {
      "text/plain": [
       "[('ok', 1), ('no', 2)]"
      ]
     },
     "execution_count": 17,
     "metadata": {},
     "output_type": "execute_result"
    }
   ],
   "source": [
    "list(z)"
   ]
  },
  {
   "cell_type": "code",
   "execution_count": 18,
   "metadata": {},
   "outputs": [
    {
     "ename": "NameError",
     "evalue": "name 'bb' is not defined",
     "output_type": "error",
     "traceback": [
      "\u001b[1;31m---------------------------------------------------------------------------\u001b[0m",
      "\u001b[1;31mNameError\u001b[0m                                 Traceback (most recent call last)",
      "\u001b[1;32m<ipython-input-18-9619a9b308cd>\u001b[0m in \u001b[0;36m<module>\u001b[1;34m\u001b[0m\n\u001b[1;32m----> 1\u001b[1;33m \u001b[0mbb\u001b[0m\u001b[1;33m\u001b[0m\u001b[1;33m\u001b[0m\u001b[0m\n\u001b[0m",
      "\u001b[1;31mNameError\u001b[0m: name 'bb' is not defined"
     ]
    }
   ],
   "source": [
    "bb"
   ]
  },
  {
   "cell_type": "code",
   "execution_count": 1,
   "metadata": {},
   "outputs": [
    {
     "name": "stdout",
     "output_type": "stream",
     "text": [
      "Collecting git+https://github.com/reichlab/zoltpy/\n",
      "  Cloning https://github.com/reichlab/zoltpy/ to c:\\users\\andred~1\\appdata\\local\\temp\\pip-req-build-1c7h5qpl\n",
      "Note: you may need to restart the kernel to use updated packages.\n"
     ]
    },
    {
     "name": "stderr",
     "output_type": "stream",
     "text": [
      "  Running command git clone -q https://github.com/reichlab/zoltpy/ 'C:\\Users\\ANDRED~1\\AppData\\Local\\Temp\\pip-req-build-1c7h5qpl'\n",
      "  ERROR: Error [WinError 2] Impossibile trovare il file specificato while executing command git clone -q https://github.com/reichlab/zoltpy/ 'C:\\Users\\ANDRED~1\\AppData\\Local\\Temp\\pip-req-build-1c7h5qpl'\n",
      "ERROR: Cannot find command 'git' - do you have 'git' installed and in your PATH?\n"
     ]
    }
   ],
   "source": [
    "pip install git+https://github.com/reichlab/zoltpy/"
   ]
  },
  {
   "cell_type": "code",
   "execution_count": 2,
   "metadata": {},
   "outputs": [
    {
     "ename": "ModuleNotFoundError",
     "evalue": "No module named 'zoltpy'",
     "output_type": "error",
     "traceback": [
      "\u001b[1;31m---------------------------------------------------------------------------\u001b[0m",
      "\u001b[1;31mModuleNotFoundError\u001b[0m                       Traceback (most recent call last)",
      "\u001b[1;32m<ipython-input-2-b765d3d590c7>\u001b[0m in \u001b[0;36m<module>\u001b[1;34m\u001b[0m\n\u001b[1;32m----> 1\u001b[1;33m \u001b[1;32mfrom\u001b[0m \u001b[0mzoltpy\u001b[0m \u001b[1;32mimport\u001b[0m \u001b[0mutil\u001b[0m\u001b[1;33m\u001b[0m\u001b[1;33m\u001b[0m\u001b[0m\n\u001b[0m\u001b[0;32m      2\u001b[0m \u001b[1;33m\u001b[0m\u001b[0m\n\u001b[0;32m      3\u001b[0m \u001b[0mconn\u001b[0m \u001b[1;33m=\u001b[0m \u001b[0mutil\u001b[0m\u001b[1;33m.\u001b[0m\u001b[0mauthenticate\u001b[0m\u001b[1;33m(\u001b[0m\u001b[1;33m)\u001b[0m\u001b[1;33m\u001b[0m\u001b[1;33m\u001b[0m\u001b[0m\n",
      "\u001b[1;31mModuleNotFoundError\u001b[0m: No module named 'zoltpy'"
     ]
    }
   ],
   "source": [
    "from zoltpy import util\n",
    "\n",
    "conn = util.authenticate()"
   ]
  },
  {
   "cell_type": "code",
   "execution_count": 3,
   "metadata": {},
   "outputs": [
    {
     "name": "stdout",
     "output_type": "stream",
     "text": [
      "Collecting zoltpy\n",
      "  Downloading https://files.pythonhosted.org/packages/3b/64/51082b9c68181f86461c4d3d9b12c42e5c2f630662d2b83926be619bebe6/zoltpy-0.0.4.dev0.tar.gz\n",
      "Building wheels for collected packages: zoltpy\n",
      "  Building wheel for zoltpy (setup.py): started\n",
      "  Building wheel for zoltpy (setup.py): finished with status 'done'\n",
      "  Created wheel for zoltpy: filename=zoltpy-0.0.4.dev0-cp37-none-any.whl size=7347 sha256=b9b0fbb6282cff26dcc630af18313c56e51a45cba5ab0d8eb1eecd45754fcac3\n",
      "  Stored in directory: C:\\Users\\AndreDany\\AppData\\Local\\pip\\Cache\\wheels\\1b\\d9\\6f\\a7a31be953f6e4fe61cc9985ab77beb8595f049408e64eaa02\n",
      "Successfully built zoltpy\n",
      "Installing collected packages: zoltpy\n",
      "Successfully installed zoltpy-0.0.4.dev0\n",
      "Note: you may need to restart the kernel to use updated packages.\n"
     ]
    }
   ],
   "source": [
    "pip install zoltpy"
   ]
  },
  {
   "cell_type": "code",
   "execution_count": 59,
   "metadata": {},
   "outputs": [
    {
     "name": "stdout",
     "output_type": "stream",
     "text": [
      "ERROR: Cannot authenticate zoltar credentials\n",
      "Ensure the environment variables for your username and password are correct\n"
     ]
    }
   ],
   "source": [
    "\n",
    "\n",
    "conn = z.authenticate()\n",
    "\n"
   ]
  },
  {
   "cell_type": "code",
   "execution_count": 74,
   "metadata": {},
   "outputs": [
    {
     "name": "stdout",
     "output_type": "stream",
     "text": [
      "Collecting git\n",
      "Note: you may need to restart the kernel to use updated packages.\n"
     ]
    },
    {
     "name": "stderr",
     "output_type": "stream",
     "text": [
      "  ERROR: Could not find a version that satisfies the requirement git (from versions: none)\n",
      "ERROR: No matching distribution found for git\n"
     ]
    }
   ],
   "source": []
  },
  {
   "cell_type": "code",
   "execution_count": 81,
   "metadata": {},
   "outputs": [
    {
     "name": "stdout",
     "output_type": "stream",
     "text": [
      "Requirement already satisfied: ipywidgets in e:\\programdata\\anaconda3\\lib\\site-packages (7.5.1)\n",
      "Requirement already satisfied: nbformat>=4.2.0 in e:\\programdata\\anaconda3\\lib\\site-packages (from ipywidgets) (4.4.0)\n",
      "Requirement already satisfied: widgetsnbextension~=3.5.0 in e:\\programdata\\anaconda3\\lib\\site-packages (from ipywidgets) (3.5.1)\n",
      "Requirement already satisfied: ipython>=4.0.0; python_version >= \"3.3\" in e:\\programdata\\anaconda3\\lib\\site-packages (from ipywidgets) (7.8.0)\n",
      "Requirement already satisfied: ipykernel>=4.5.1 in e:\\programdata\\anaconda3\\lib\\site-packages (from ipywidgets) (5.1.2)\n",
      "Requirement already satisfied: traitlets>=4.3.1 in e:\\programdata\\anaconda3\\lib\\site-packages (from ipywidgets) (4.3.3)\n",
      "Requirement already satisfied: jupyter-core in e:\\programdata\\anaconda3\\lib\\site-packages (from nbformat>=4.2.0->ipywidgets) (4.5.0)\n",
      "Requirement already satisfied: ipython-genutils in e:\\programdata\\anaconda3\\lib\\site-packages (from nbformat>=4.2.0->ipywidgets) (0.2.0)\n",
      "Requirement already satisfied: jsonschema!=2.5.0,>=2.4 in e:\\programdata\\anaconda3\\lib\\site-packages (from nbformat>=4.2.0->ipywidgets) (3.0.2)\n",
      "Requirement already satisfied: notebook>=4.4.1 in e:\\programdata\\anaconda3\\lib\\site-packages (from widgetsnbextension~=3.5.0->ipywidgets) (6.0.1)\n",
      "Requirement already satisfied: pickleshare in e:\\programdata\\anaconda3\\lib\\site-packages (from ipython>=4.0.0; python_version >= \"3.3\"->ipywidgets) (0.7.5)\n",
      "Requirement already satisfied: jedi>=0.10 in e:\\programdata\\anaconda3\\lib\\site-packages (from ipython>=4.0.0; python_version >= \"3.3\"->ipywidgets) (0.15.1)\n",
      "Requirement already satisfied: colorama; sys_platform == \"win32\" in e:\\programdata\\anaconda3\\lib\\site-packages (from ipython>=4.0.0; python_version >= \"3.3\"->ipywidgets) (0.4.1)\n",
      "Requirement already satisfied: prompt-toolkit<2.1.0,>=2.0.0 in e:\\programdata\\anaconda3\\lib\\site-packages (from ipython>=4.0.0; python_version >= \"3.3\"->ipywidgets) (2.0.10)\n",
      "Requirement already satisfied: backcall in e:\\programdata\\anaconda3\\lib\\site-packages (from ipython>=4.0.0; python_version >= \"3.3\"->ipywidgets) (0.1.0)\n",
      "Requirement already satisfied: setuptools>=18.5 in e:\\programdata\\anaconda3\\lib\\site-packages (from ipython>=4.0.0; python_version >= \"3.3\"->ipywidgets) (41.4.0)\n",
      "Requirement already satisfied: pygments in e:\\programdata\\anaconda3\\lib\\site-packages (from ipython>=4.0.0; python_version >= \"3.3\"->ipywidgets) (2.4.2)\n",
      "Requirement already satisfied: decorator in e:\\programdata\\anaconda3\\lib\\site-packages (from ipython>=4.0.0; python_version >= \"3.3\"->ipywidgets) (4.4.0)\n",
      "Requirement already satisfied: jupyter-client in e:\\programdata\\anaconda3\\lib\\site-packages (from ipykernel>=4.5.1->ipywidgets) (5.3.3)\n",
      "Requirement already satisfied: tornado>=4.2 in e:\\programdata\\anaconda3\\lib\\site-packages (from ipykernel>=4.5.1->ipywidgets) (6.0.3)\n",
      "Requirement already satisfied: six in e:\\programdata\\anaconda3\\lib\\site-packages (from traitlets>=4.3.1->ipywidgets) (1.12.0)\n",
      "Requirement already satisfied: pyrsistent>=0.14.0 in e:\\programdata\\anaconda3\\lib\\site-packages (from jsonschema!=2.5.0,>=2.4->nbformat>=4.2.0->ipywidgets) (0.15.4)\n",
      "Requirement already satisfied: attrs>=17.4.0 in e:\\programdata\\anaconda3\\lib\\site-packages (from jsonschema!=2.5.0,>=2.4->nbformat>=4.2.0->ipywidgets) (19.2.0)\n",
      "Requirement already satisfied: terminado>=0.8.1 in e:\\programdata\\anaconda3\\lib\\site-packages (from notebook>=4.4.1->widgetsnbextension~=3.5.0->ipywidgets) (0.8.2)\n",
      "Requirement already satisfied: jinja2 in e:\\programdata\\anaconda3\\lib\\site-packages (from notebook>=4.4.1->widgetsnbextension~=3.5.0->ipywidgets) (2.10.3)\n",
      "Requirement already satisfied: prometheus-client in e:\\programdata\\anaconda3\\lib\\site-packages (from notebook>=4.4.1->widgetsnbextension~=3.5.0->ipywidgets) (0.7.1)\n",
      "Requirement already satisfied: Send2Trash in e:\\programdata\\anaconda3\\lib\\site-packages (from notebook>=4.4.1->widgetsnbextension~=3.5.0->ipywidgets) (1.5.0)\n",
      "Requirement already satisfied: nbconvert in e:\\programdata\\anaconda3\\lib\\site-packages (from notebook>=4.4.1->widgetsnbextension~=3.5.0->ipywidgets) (5.6.0)\n",
      "Requirement already satisfied: pyzmq>=17 in e:\\programdata\\anaconda3\\lib\\site-packages (from notebook>=4.4.1->widgetsnbextension~=3.5.0->ipywidgets) (18.1.0)\n",
      "Requirement already satisfied: parso>=0.5.0 in e:\\programdata\\anaconda3\\lib\\site-packages (from jedi>=0.10->ipython>=4.0.0; python_version >= \"3.3\"->ipywidgets) (0.5.1)\n",
      "Requirement already satisfied: wcwidth in e:\\programdata\\anaconda3\\lib\\site-packages (from prompt-toolkit<2.1.0,>=2.0.0->ipython>=4.0.0; python_version >= \"3.3\"->ipywidgets) (0.1.7)\n",
      "Requirement already satisfied: pywin32>=1.0; sys_platform == \"win32\" in e:\\programdata\\anaconda3\\lib\\site-packages (from jupyter-client->ipykernel>=4.5.1->ipywidgets) (223)\n",
      "Requirement already satisfied: python-dateutil>=2.1 in e:\\programdata\\anaconda3\\lib\\site-packages (from jupyter-client->ipykernel>=4.5.1->ipywidgets) (2.8.0)\n",
      "Requirement already satisfied: MarkupSafe>=0.23 in e:\\programdata\\anaconda3\\lib\\site-packages (from jinja2->notebook>=4.4.1->widgetsnbextension~=3.5.0->ipywidgets) (1.1.1)\n",
      "Requirement already satisfied: entrypoints>=0.2.2 in e:\\programdata\\anaconda3\\lib\\site-packages (from nbconvert->notebook>=4.4.1->widgetsnbextension~=3.5.0->ipywidgets) (0.3)\n",
      "Requirement already satisfied: bleach in e:\\programdata\\anaconda3\\lib\\site-packages (from nbconvert->notebook>=4.4.1->widgetsnbextension~=3.5.0->ipywidgets) (3.1.0)\n",
      "Requirement already satisfied: testpath in e:\\programdata\\anaconda3\\lib\\site-packages (from nbconvert->notebook>=4.4.1->widgetsnbextension~=3.5.0->ipywidgets) (0.4.2)\n",
      "Requirement already satisfied: pandocfilters>=1.4.1 in e:\\programdata\\anaconda3\\lib\\site-packages (from nbconvert->notebook>=4.4.1->widgetsnbextension~=3.5.0->ipywidgets) (1.4.2)\n",
      "Requirement already satisfied: defusedxml in e:\\programdata\\anaconda3\\lib\\site-packages (from nbconvert->notebook>=4.4.1->widgetsnbextension~=3.5.0->ipywidgets) (0.6.0)\n",
      "Requirement already satisfied: mistune<2,>=0.8.1 in e:\\programdata\\anaconda3\\lib\\site-packages (from nbconvert->notebook>=4.4.1->widgetsnbextension~=3.5.0->ipywidgets) (0.8.4)\n",
      "Requirement already satisfied: webencodings in e:\\programdata\\anaconda3\\lib\\site-packages (from bleach->nbconvert->notebook>=4.4.1->widgetsnbextension~=3.5.0->ipywidgets) (0.5.1)\n",
      "Note: you may need to restart the kernel to use updated packages.\n"
     ]
    }
   ],
   "source": [
    "pip install ipywidgets"
   ]
  },
  {
   "cell_type": "code",
   "execution_count": 82,
   "metadata": {},
   "outputs": [
    {
     "name": "stdout",
     "output_type": "stream",
     "text": [
      "Collecting git+https://github.com/reichlab/zoltpy/\n",
      "  Cloning https://github.com/reichlab/zoltpy/ to c:\\users\\andred~1\\appdata\\local\\temp\\pip-req-build-z7oj1xfc\n",
      "Note: you may need to restart the kernel to use updated packages.\n"
     ]
    },
    {
     "name": "stderr",
     "output_type": "stream",
     "text": [
      "  Running command git clone -q https://github.com/reichlab/zoltpy/ 'C:\\Users\\ANDRED~1\\AppData\\Local\\Temp\\pip-req-build-z7oj1xfc'\n",
      "  ERROR: Error [WinError 2] Impossibile trovare il file specificato while executing command git clone -q https://github.com/reichlab/zoltpy/ 'C:\\Users\\ANDRED~1\\AppData\\Local\\Temp\\pip-req-build-z7oj1xfc'\n",
      "ERROR: Cannot find command 'git' - do you have 'git' installed and in your PATH?\n"
     ]
    }
   ],
   "source": [
    "pip install git+https://github.com/reichlab/zoltpy/"
   ]
  },
  {
   "cell_type": "code",
   "execution_count": 71,
   "metadata": {},
   "outputs": [
    {
     "name": "stdout",
     "output_type": "stream",
     "text": [
      "env: Z_USERNAME=\"fabiocaironi\"\n",
      "env: Z_PASSWORD=\"p19Q@eKyo95w\"\n"
     ]
    }
   ],
   "source": [
    "%env Z_USERNAME=\"fabiocaironi\"\n",
    "%env Z_PASSWORD=\"p19Q@eKyo95w\""
   ]
  },
  {
   "cell_type": "code",
   "execution_count": 80,
   "metadata": {},
   "outputs": [
    {
     "name": "stdout",
     "output_type": "stream",
     "text": [
      "ERROR: Cannot authenticate zoltar credentials\n",
      "Ensure the environment variables for your username and password are correct\n",
      "ERROR: Cannot authenticate zoltar credentials\n",
      "Ensure the environment variables for your username and password are correct\n"
     ]
    },
    {
     "ename": "RuntimeError",
     "evalue": "_validate_authentication(): no session",
     "output_type": "error",
     "traceback": [
      "\u001b[1;31m---------------------------------------------------------------------------\u001b[0m",
      "\u001b[1;31mRuntimeError\u001b[0m                              Traceback (most recent call last)",
      "\u001b[1;32m<ipython-input-80-f52edebfa9c8>\u001b[0m in \u001b[0;36m<module>\u001b[1;34m\u001b[0m\n\u001b[0;32m      5\u001b[0m \u001b[0mmodel_abbr\u001b[0m \u001b[1;33m=\u001b[0m \u001b[1;34m'docs forecast model'\u001b[0m\u001b[1;33m\u001b[0m\u001b[1;33m\u001b[0m\u001b[0m\n\u001b[0;32m      6\u001b[0m \u001b[0mtimezero_date\u001b[0m \u001b[1;33m=\u001b[0m \u001b[1;34m'2011-10-09'\u001b[0m\u001b[1;33m\u001b[0m\u001b[1;33m\u001b[0m\u001b[0m\n\u001b[1;32m----> 7\u001b[1;33m \u001b[0mjson_io_dict\u001b[0m \u001b[1;33m=\u001b[0m \u001b[0mz\u001b[0m\u001b[1;33m.\u001b[0m\u001b[0mforecast_to_dataframe\u001b[0m\u001b[1;33m(\u001b[0m\u001b[0mconn\u001b[0m\u001b[1;33m,\u001b[0m \u001b[0mproject_name\u001b[0m\u001b[1;33m,\u001b[0m \u001b[0mmodel_abbr\u001b[0m\u001b[1;33m)\u001b[0m\u001b[1;33m\u001b[0m\u001b[1;33m\u001b[0m\u001b[0m\n\u001b[0m",
      "\u001b[1;32mE:\\ProgramData\\Anaconda3\\lib\\site-packages\\zoltpy\\__init__.py\u001b[0m in \u001b[0;36mforecast_to_dataframe\u001b[1;34m(project_name, model_name, timezero_date)\u001b[0m\n\u001b[0;32m    104\u001b[0m     \u001b[0mzoltar\u001b[0m \u001b[1;33m=\u001b[0m \u001b[0mauthenticate\u001b[0m\u001b[1;33m(\u001b[0m\u001b[1;33m)\u001b[0m\u001b[1;33m\u001b[0m\u001b[1;33m\u001b[0m\u001b[0m\n\u001b[0;32m    105\u001b[0m     project = [\n\u001b[1;32m--> 106\u001b[1;33m         project for project in zoltar.projects if project.name == project_name][0]\n\u001b[0m\u001b[0;32m    107\u001b[0m     \u001b[0mmodel\u001b[0m \u001b[1;33m=\u001b[0m \u001b[1;33m[\u001b[0m\u001b[0mmodel\u001b[0m \u001b[1;32mfor\u001b[0m \u001b[0mmodel\u001b[0m \u001b[1;32min\u001b[0m \u001b[0mproject\u001b[0m\u001b[1;33m.\u001b[0m\u001b[0mmodels\u001b[0m \u001b[1;32mif\u001b[0m \u001b[0mmodel\u001b[0m\u001b[1;33m.\u001b[0m\u001b[0mname\u001b[0m \u001b[1;33m==\u001b[0m \u001b[0mmodel_name\u001b[0m\u001b[1;33m]\u001b[0m\u001b[1;33m[\u001b[0m\u001b[1;36m0\u001b[0m\u001b[1;33m]\u001b[0m\u001b[1;33m\u001b[0m\u001b[1;33m\u001b[0m\u001b[0m\n\u001b[0;32m    108\u001b[0m     forecast_fr_tz = [\n",
      "\u001b[1;32mE:\\ProgramData\\Anaconda3\\lib\\site-packages\\zoltpy\\connection.py\u001b[0m in \u001b[0;36mprojects\u001b[1;34m(self)\u001b[0m\n\u001b[0;32m     29\u001b[0m         \u001b[1;31m# projects rather than just URIs\u001b[0m\u001b[1;33m\u001b[0m\u001b[1;33m\u001b[0m\u001b[1;33m\u001b[0m\u001b[0m\n\u001b[0;32m     30\u001b[0m         return [Project(self, project_json['url']) for project_json in\n\u001b[1;32m---> 31\u001b[1;33m                 self._json_for_uri(self.host + '/api/projects/')]\n\u001b[0m\u001b[0;32m     32\u001b[0m \u001b[1;33m\u001b[0m\u001b[0m\n\u001b[0;32m     33\u001b[0m \u001b[1;33m\u001b[0m\u001b[0m\n",
      "\u001b[1;32mE:\\ProgramData\\Anaconda3\\lib\\site-packages\\zoltpy\\connection.py\u001b[0m in \u001b[0;36m_json_for_uri\u001b[1;34m(self, uri)\u001b[0m\n\u001b[0;32m     34\u001b[0m     \u001b[1;32mdef\u001b[0m \u001b[0m_json_for_uri\u001b[0m\u001b[1;33m(\u001b[0m\u001b[0mself\u001b[0m\u001b[1;33m,\u001b[0m \u001b[0muri\u001b[0m\u001b[1;33m)\u001b[0m\u001b[1;33m:\u001b[0m\u001b[1;33m\u001b[0m\u001b[1;33m\u001b[0m\u001b[0m\n\u001b[0;32m     35\u001b[0m         \u001b[1;32mif\u001b[0m \u001b[1;32mnot\u001b[0m \u001b[0mself\u001b[0m\u001b[1;33m.\u001b[0m\u001b[0msession\u001b[0m\u001b[1;33m:\u001b[0m\u001b[1;33m\u001b[0m\u001b[1;33m\u001b[0m\u001b[0m\n\u001b[1;32m---> 36\u001b[1;33m             \u001b[1;32mraise\u001b[0m \u001b[0mRuntimeError\u001b[0m\u001b[1;33m(\u001b[0m\u001b[1;34m'_validate_authentication(): no session'\u001b[0m\u001b[1;33m)\u001b[0m\u001b[1;33m\u001b[0m\u001b[1;33m\u001b[0m\u001b[0m\n\u001b[0m\u001b[0;32m     37\u001b[0m \u001b[1;33m\u001b[0m\u001b[0m\n\u001b[0;32m     38\u001b[0m         response = requests.get(uri, headers={'Accept': 'application/json; indent=4',\n",
      "\u001b[1;31mRuntimeError\u001b[0m: _validate_authentication(): no session"
     ]
    }
   ],
   "source": [
    "import zoltpy as z\n",
    "\n",
    "conn = z.authenticate()\n",
    "project_name = 'Docs Example Project'\n",
    "model_abbr = 'docs forecast model'\n",
    "timezero_date = '2011-10-09'\n",
    "json_io_dict = z.forecast_to_dataframe(conn, project_name, model_abbr)\n"
   ]
  },
  {
   "cell_type": "code",
   "execution_count": 77,
   "metadata": {},
   "outputs": [
    {
     "data": {
      "text/plain": [
       "['StringIO',\n",
       " 'ZoltarConnection',\n",
       " '__builtins__',\n",
       " '__cached__',\n",
       " '__doc__',\n",
       " '__file__',\n",
       " '__loader__',\n",
       " '__name__',\n",
       " '__package__',\n",
       " '__path__',\n",
       " '__spec__',\n",
       " 'authenticate',\n",
       " 'busy_poll_upload_file_job',\n",
       " 'connection',\n",
       " 'csv',\n",
       " 'delete_forecast',\n",
       " 'forecast_to_dataframe',\n",
       " 'np',\n",
       " 'os',\n",
       " 'pd',\n",
       " 'print_models',\n",
       " 'print_projects',\n",
       " 'sys',\n",
       " 'time',\n",
       " 'upload_forecast']"
      ]
     },
     "execution_count": 77,
     "metadata": {},
     "output_type": "execute_result"
    }
   ],
   "source": [
    "dir(zoltpy)"
   ]
  },
  {
   "cell_type": "code",
   "execution_count": 48,
   "metadata": {},
   "outputs": [
    {
     "ename": "NameError",
     "evalue": "name 'printenv' is not defined",
     "output_type": "error",
     "traceback": [
      "\u001b[1;31m---------------------------------------------------------------------------\u001b[0m",
      "\u001b[1;31mNameError\u001b[0m                                 Traceback (most recent call last)",
      "\u001b[1;32m<ipython-input-48-b2b2cea5133f>\u001b[0m in \u001b[0;36m<module>\u001b[1;34m\u001b[0m\n\u001b[1;32m----> 1\u001b[1;33m \u001b[0mprintenv\u001b[0m\u001b[1;33m\u001b[0m\u001b[1;33m\u001b[0m\u001b[0m\n\u001b[0m",
      "\u001b[1;31mNameError\u001b[0m: name 'printenv' is not defined"
     ]
    }
   ],
   "source": [
    "printenv"
   ]
  },
  {
   "cell_type": "code",
   "execution_count": 18,
   "metadata": {},
   "outputs": [
    {
     "ename": "ModuleNotFoundError",
     "evalue": "No module named 'dotenv'",
     "output_type": "error",
     "traceback": [
      "\u001b[1;31m---------------------------------------------------------------------------\u001b[0m",
      "\u001b[1;31mModuleNotFoundError\u001b[0m                       Traceback (most recent call last)",
      "\u001b[1;32m<ipython-input-18-33243d9bf186>\u001b[0m in \u001b[0;36m<module>\u001b[1;34m\u001b[0m\n\u001b[1;32m----> 1\u001b[1;33m \u001b[0mget_ipython\u001b[0m\u001b[1;33m(\u001b[0m\u001b[1;33m)\u001b[0m\u001b[1;33m.\u001b[0m\u001b[0mrun_line_magic\u001b[0m\u001b[1;33m(\u001b[0m\u001b[1;34m'load_ext'\u001b[0m\u001b[1;33m,\u001b[0m \u001b[1;34m'dotenv'\u001b[0m\u001b[1;33m)\u001b[0m\u001b[1;33m\u001b[0m\u001b[1;33m\u001b[0m\u001b[0m\n\u001b[0m\u001b[0;32m      2\u001b[0m \u001b[0mget_ipython\u001b[0m\u001b[1;33m(\u001b[0m\u001b[1;33m)\u001b[0m\u001b[1;33m.\u001b[0m\u001b[0mrun_line_magic\u001b[0m\u001b[1;33m(\u001b[0m\u001b[1;34m'dotenv'\u001b[0m\u001b[1;33m,\u001b[0m \u001b[1;34m''\u001b[0m\u001b[1;33m)\u001b[0m\u001b[1;33m\u001b[0m\u001b[1;33m\u001b[0m\u001b[0m\n",
      "\u001b[1;32mE:\\ProgramData\\Anaconda3\\lib\\site-packages\\IPython\\core\\interactiveshell.py\u001b[0m in \u001b[0;36mrun_line_magic\u001b[1;34m(self, magic_name, line, _stack_depth)\u001b[0m\n\u001b[0;32m   2312\u001b[0m                 \u001b[0mkwargs\u001b[0m\u001b[1;33m[\u001b[0m\u001b[1;34m'local_ns'\u001b[0m\u001b[1;33m]\u001b[0m \u001b[1;33m=\u001b[0m \u001b[0msys\u001b[0m\u001b[1;33m.\u001b[0m\u001b[0m_getframe\u001b[0m\u001b[1;33m(\u001b[0m\u001b[0mstack_depth\u001b[0m\u001b[1;33m)\u001b[0m\u001b[1;33m.\u001b[0m\u001b[0mf_locals\u001b[0m\u001b[1;33m\u001b[0m\u001b[1;33m\u001b[0m\u001b[0m\n\u001b[0;32m   2313\u001b[0m             \u001b[1;32mwith\u001b[0m \u001b[0mself\u001b[0m\u001b[1;33m.\u001b[0m\u001b[0mbuiltin_trap\u001b[0m\u001b[1;33m:\u001b[0m\u001b[1;33m\u001b[0m\u001b[1;33m\u001b[0m\u001b[0m\n\u001b[1;32m-> 2314\u001b[1;33m                 \u001b[0mresult\u001b[0m \u001b[1;33m=\u001b[0m \u001b[0mfn\u001b[0m\u001b[1;33m(\u001b[0m\u001b[1;33m*\u001b[0m\u001b[0margs\u001b[0m\u001b[1;33m,\u001b[0m \u001b[1;33m**\u001b[0m\u001b[0mkwargs\u001b[0m\u001b[1;33m)\u001b[0m\u001b[1;33m\u001b[0m\u001b[1;33m\u001b[0m\u001b[0m\n\u001b[0m\u001b[0;32m   2315\u001b[0m             \u001b[1;32mreturn\u001b[0m \u001b[0mresult\u001b[0m\u001b[1;33m\u001b[0m\u001b[1;33m\u001b[0m\u001b[0m\n\u001b[0;32m   2316\u001b[0m \u001b[1;33m\u001b[0m\u001b[0m\n",
      "\u001b[1;32m<E:\\ProgramData\\Anaconda3\\lib\\site-packages\\decorator.py:decorator-gen-65>\u001b[0m in \u001b[0;36mload_ext\u001b[1;34m(self, module_str)\u001b[0m\n",
      "\u001b[1;32mE:\\ProgramData\\Anaconda3\\lib\\site-packages\\IPython\\core\\magic.py\u001b[0m in \u001b[0;36m<lambda>\u001b[1;34m(f, *a, **k)\u001b[0m\n\u001b[0;32m    185\u001b[0m     \u001b[1;31m# but it's overkill for just that one bit of state.\u001b[0m\u001b[1;33m\u001b[0m\u001b[1;33m\u001b[0m\u001b[1;33m\u001b[0m\u001b[0m\n\u001b[0;32m    186\u001b[0m     \u001b[1;32mdef\u001b[0m \u001b[0mmagic_deco\u001b[0m\u001b[1;33m(\u001b[0m\u001b[0marg\u001b[0m\u001b[1;33m)\u001b[0m\u001b[1;33m:\u001b[0m\u001b[1;33m\u001b[0m\u001b[1;33m\u001b[0m\u001b[0m\n\u001b[1;32m--> 187\u001b[1;33m         \u001b[0mcall\u001b[0m \u001b[1;33m=\u001b[0m \u001b[1;32mlambda\u001b[0m \u001b[0mf\u001b[0m\u001b[1;33m,\u001b[0m \u001b[1;33m*\u001b[0m\u001b[0ma\u001b[0m\u001b[1;33m,\u001b[0m \u001b[1;33m**\u001b[0m\u001b[0mk\u001b[0m\u001b[1;33m:\u001b[0m \u001b[0mf\u001b[0m\u001b[1;33m(\u001b[0m\u001b[1;33m*\u001b[0m\u001b[0ma\u001b[0m\u001b[1;33m,\u001b[0m \u001b[1;33m**\u001b[0m\u001b[0mk\u001b[0m\u001b[1;33m)\u001b[0m\u001b[1;33m\u001b[0m\u001b[1;33m\u001b[0m\u001b[0m\n\u001b[0m\u001b[0;32m    188\u001b[0m \u001b[1;33m\u001b[0m\u001b[0m\n\u001b[0;32m    189\u001b[0m         \u001b[1;32mif\u001b[0m \u001b[0mcallable\u001b[0m\u001b[1;33m(\u001b[0m\u001b[0marg\u001b[0m\u001b[1;33m)\u001b[0m\u001b[1;33m:\u001b[0m\u001b[1;33m\u001b[0m\u001b[1;33m\u001b[0m\u001b[0m\n",
      "\u001b[1;32mE:\\ProgramData\\Anaconda3\\lib\\site-packages\\IPython\\core\\magics\\extension.py\u001b[0m in \u001b[0;36mload_ext\u001b[1;34m(self, module_str)\u001b[0m\n\u001b[0;32m     31\u001b[0m         \u001b[1;32mif\u001b[0m \u001b[1;32mnot\u001b[0m \u001b[0mmodule_str\u001b[0m\u001b[1;33m:\u001b[0m\u001b[1;33m\u001b[0m\u001b[1;33m\u001b[0m\u001b[0m\n\u001b[0;32m     32\u001b[0m             \u001b[1;32mraise\u001b[0m \u001b[0mUsageError\u001b[0m\u001b[1;33m(\u001b[0m\u001b[1;34m'Missing module name.'\u001b[0m\u001b[1;33m)\u001b[0m\u001b[1;33m\u001b[0m\u001b[1;33m\u001b[0m\u001b[0m\n\u001b[1;32m---> 33\u001b[1;33m         \u001b[0mres\u001b[0m \u001b[1;33m=\u001b[0m \u001b[0mself\u001b[0m\u001b[1;33m.\u001b[0m\u001b[0mshell\u001b[0m\u001b[1;33m.\u001b[0m\u001b[0mextension_manager\u001b[0m\u001b[1;33m.\u001b[0m\u001b[0mload_extension\u001b[0m\u001b[1;33m(\u001b[0m\u001b[0mmodule_str\u001b[0m\u001b[1;33m)\u001b[0m\u001b[1;33m\u001b[0m\u001b[1;33m\u001b[0m\u001b[0m\n\u001b[0m\u001b[0;32m     34\u001b[0m \u001b[1;33m\u001b[0m\u001b[0m\n\u001b[0;32m     35\u001b[0m         \u001b[1;32mif\u001b[0m \u001b[0mres\u001b[0m \u001b[1;33m==\u001b[0m \u001b[1;34m'already loaded'\u001b[0m\u001b[1;33m:\u001b[0m\u001b[1;33m\u001b[0m\u001b[1;33m\u001b[0m\u001b[0m\n",
      "\u001b[1;32mE:\\ProgramData\\Anaconda3\\lib\\site-packages\\IPython\\core\\extensions.py\u001b[0m in \u001b[0;36mload_extension\u001b[1;34m(self, module_str)\u001b[0m\n\u001b[0;32m     78\u001b[0m             \u001b[1;32mif\u001b[0m \u001b[0mmodule_str\u001b[0m \u001b[1;32mnot\u001b[0m \u001b[1;32min\u001b[0m \u001b[0msys\u001b[0m\u001b[1;33m.\u001b[0m\u001b[0mmodules\u001b[0m\u001b[1;33m:\u001b[0m\u001b[1;33m\u001b[0m\u001b[1;33m\u001b[0m\u001b[0m\n\u001b[0;32m     79\u001b[0m                 \u001b[1;32mwith\u001b[0m \u001b[0mprepended_to_syspath\u001b[0m\u001b[1;33m(\u001b[0m\u001b[0mself\u001b[0m\u001b[1;33m.\u001b[0m\u001b[0mipython_extension_dir\u001b[0m\u001b[1;33m)\u001b[0m\u001b[1;33m:\u001b[0m\u001b[1;33m\u001b[0m\u001b[1;33m\u001b[0m\u001b[0m\n\u001b[1;32m---> 80\u001b[1;33m                     \u001b[0mmod\u001b[0m \u001b[1;33m=\u001b[0m \u001b[0mimport_module\u001b[0m\u001b[1;33m(\u001b[0m\u001b[0mmodule_str\u001b[0m\u001b[1;33m)\u001b[0m\u001b[1;33m\u001b[0m\u001b[1;33m\u001b[0m\u001b[0m\n\u001b[0m\u001b[0;32m     81\u001b[0m                     \u001b[1;32mif\u001b[0m \u001b[0mmod\u001b[0m\u001b[1;33m.\u001b[0m\u001b[0m__file__\u001b[0m\u001b[1;33m.\u001b[0m\u001b[0mstartswith\u001b[0m\u001b[1;33m(\u001b[0m\u001b[0mself\u001b[0m\u001b[1;33m.\u001b[0m\u001b[0mipython_extension_dir\u001b[0m\u001b[1;33m)\u001b[0m\u001b[1;33m:\u001b[0m\u001b[1;33m\u001b[0m\u001b[1;33m\u001b[0m\u001b[0m\n\u001b[0;32m     82\u001b[0m                         print((\"Loading extensions from {dir} is deprecated. \"\n",
      "\u001b[1;32mE:\\ProgramData\\Anaconda3\\lib\\importlib\\__init__.py\u001b[0m in \u001b[0;36mimport_module\u001b[1;34m(name, package)\u001b[0m\n\u001b[0;32m    125\u001b[0m                 \u001b[1;32mbreak\u001b[0m\u001b[1;33m\u001b[0m\u001b[1;33m\u001b[0m\u001b[0m\n\u001b[0;32m    126\u001b[0m             \u001b[0mlevel\u001b[0m \u001b[1;33m+=\u001b[0m \u001b[1;36m1\u001b[0m\u001b[1;33m\u001b[0m\u001b[1;33m\u001b[0m\u001b[0m\n\u001b[1;32m--> 127\u001b[1;33m     \u001b[1;32mreturn\u001b[0m \u001b[0m_bootstrap\u001b[0m\u001b[1;33m.\u001b[0m\u001b[0m_gcd_import\u001b[0m\u001b[1;33m(\u001b[0m\u001b[0mname\u001b[0m\u001b[1;33m[\u001b[0m\u001b[0mlevel\u001b[0m\u001b[1;33m:\u001b[0m\u001b[1;33m]\u001b[0m\u001b[1;33m,\u001b[0m \u001b[0mpackage\u001b[0m\u001b[1;33m,\u001b[0m \u001b[0mlevel\u001b[0m\u001b[1;33m)\u001b[0m\u001b[1;33m\u001b[0m\u001b[1;33m\u001b[0m\u001b[0m\n\u001b[0m\u001b[0;32m    128\u001b[0m \u001b[1;33m\u001b[0m\u001b[0m\n\u001b[0;32m    129\u001b[0m \u001b[1;33m\u001b[0m\u001b[0m\n",
      "\u001b[1;32mE:\\ProgramData\\Anaconda3\\lib\\importlib\\_bootstrap.py\u001b[0m in \u001b[0;36m_gcd_import\u001b[1;34m(name, package, level)\u001b[0m\n",
      "\u001b[1;32mE:\\ProgramData\\Anaconda3\\lib\\importlib\\_bootstrap.py\u001b[0m in \u001b[0;36m_find_and_load\u001b[1;34m(name, import_)\u001b[0m\n",
      "\u001b[1;32mE:\\ProgramData\\Anaconda3\\lib\\importlib\\_bootstrap.py\u001b[0m in \u001b[0;36m_find_and_load_unlocked\u001b[1;34m(name, import_)\u001b[0m\n",
      "\u001b[1;31mModuleNotFoundError\u001b[0m: No module named 'dotenv'"
     ]
    }
   ],
   "source": [
    "%load_ext dotenv\n",
    "%dotenv"
   ]
  },
  {
   "cell_type": "code",
   "execution_count": null,
   "metadata": {},
   "outputs": [],
   "source": [
    "pip install python-dotenv"
   ]
  },
  {
   "cell_type": "code",
   "execution_count": 21,
   "metadata": {},
   "outputs": [
    {
     "ename": "NameError",
     "evalue": "name 'new_connection' is not defined",
     "output_type": "error",
     "traceback": [
      "\u001b[1;31m---------------------------------------------------------------------------\u001b[0m",
      "\u001b[1;31mNameError\u001b[0m                                 Traceback (most recent call last)",
      "\u001b[1;32m<ipython-input-21-5f6f1eb484a9>\u001b[0m in \u001b[0;36m<module>\u001b[1;34m\u001b[0m\n\u001b[1;32m----> 1\u001b[1;33m \u001b[0mnew_connection\u001b[0m\u001b[1;33m(\u001b[0m\u001b[0mhost\u001b[0m \u001b[1;33m=\u001b[0m \u001b[1;34m\"https://zoltardata.com\"\u001b[0m\u001b[1;33m)\u001b[0m\u001b[1;33m\u001b[0m\u001b[1;33m\u001b[0m\u001b[0m\n\u001b[0m",
      "\u001b[1;31mNameError\u001b[0m: name 'new_connection' is not defined"
     ]
    }
   ],
   "source": [
    "new_connection(host = \"https://zoltardata.com\")"
   ]
  },
  {
   "cell_type": "code",
   "execution_count": 22,
   "metadata": {},
   "outputs": [
    {
     "ename": "AttributeError",
     "evalue": "module 'zoltpy' has no attribute 'new_connection'",
     "output_type": "error",
     "traceback": [
      "\u001b[1;31m---------------------------------------------------------------------------\u001b[0m",
      "\u001b[1;31mAttributeError\u001b[0m                            Traceback (most recent call last)",
      "\u001b[1;32m<ipython-input-22-33aa9945c5b8>\u001b[0m in \u001b[0;36m<module>\u001b[1;34m\u001b[0m\n\u001b[1;32m----> 1\u001b[1;33m \u001b[0mz\u001b[0m\u001b[1;33m.\u001b[0m\u001b[0mnew_connection\u001b[0m\u001b[1;33m\u001b[0m\u001b[1;33m\u001b[0m\u001b[0m\n\u001b[0m",
      "\u001b[1;31mAttributeError\u001b[0m: module 'zoltpy' has no attribute 'new_connection'"
     ]
    }
   ],
   "source": [
    "z.new_connection"
   ]
  },
  {
   "cell_type": "code",
   "execution_count": 23,
   "metadata": {},
   "outputs": [
    {
     "ename": "NameError",
     "evalue": "name 'curl' is not defined",
     "output_type": "error",
     "traceback": [
      "\u001b[1;31m---------------------------------------------------------------------------\u001b[0m",
      "\u001b[1;31mNameError\u001b[0m                                 Traceback (most recent call last)",
      "\u001b[1;32m<ipython-input-23-465c762974dc>\u001b[0m in \u001b[0;36m<module>\u001b[1;34m\u001b[0m\n\u001b[1;32m----> 1\u001b[1;33m \u001b[0mcurl\u001b[0m\u001b[1;33m\u001b[0m\u001b[1;33m\u001b[0m\u001b[0m\n\u001b[0m",
      "\u001b[1;31mNameError\u001b[0m: name 'curl' is not defined"
     ]
    }
   ],
   "source": [
    "curl"
   ]
  },
  {
   "cell_type": "code",
   "execution_count": 24,
   "metadata": {},
   "outputs": [
    {
     "name": "stdout",
     "output_type": "stream",
     "text": [
      "Collecting curl\n",
      "  Downloading https://files.pythonhosted.org/packages/c5/0f/f55187f6441f13e19df9a9d37786a3e2794608fce576998ad94756216815/curl-0.0.1-py3-none-any.whl\n",
      "Installing collected packages: curl\n",
      "Successfully installed curl-0.0.1\n",
      "Note: you may need to restart the kernel to use updated packages.\n"
     ]
    }
   ],
   "source": []
  },
  {
   "cell_type": "code",
   "execution_count": 45,
   "metadata": {},
   "outputs": [
    {
     "name": "stdout",
     "output_type": "stream",
     "text": [
      "<Response [200]>\n"
     ]
    }
   ],
   "source": [
    "import requests\n",
    "\n",
    "r = requests.get(\"https://zoltardata.com/project/44/download_config\")\n",
    "print(r)"
   ]
  },
  {
   "cell_type": "markdown",
   "metadata": {},
   "source": [
    "## r.json()"
   ]
  },
  {
   "cell_type": "code",
   "execution_count": null,
   "metadata": {},
   "outputs": [],
   "source": []
  }
 ],
 "metadata": {
  "kernelspec": {
   "display_name": "Python 3",
   "language": "python",
   "name": "python3"
  },
  "language_info": {
   "codemirror_mode": {
    "name": "ipython",
    "version": 3
   },
   "file_extension": ".py",
   "mimetype": "text/x-python",
   "name": "python",
   "nbconvert_exporter": "python",
   "pygments_lexer": "ipython3",
   "version": "3.7.4"
  }
 },
 "nbformat": 4,
 "nbformat_minor": 2
}
