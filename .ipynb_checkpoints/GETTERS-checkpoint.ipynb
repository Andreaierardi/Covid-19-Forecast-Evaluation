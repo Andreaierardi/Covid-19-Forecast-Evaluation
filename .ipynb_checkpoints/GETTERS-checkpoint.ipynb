{
 "cells": [
  {
   "cell_type": "code",
   "execution_count": null,
   "metadata": {},
   "outputs": [],
   "source": [
    "import pandas as pd\n",
    "import pyarrow.parquet as pq\n",
    "import datetime as dt"
   ]
  },
  {
   "cell_type": "code",
   "execution_count": null,
   "metadata": {},
   "outputs": [],
   "source": [
    "locations = pd.read_csv(\"data/unique_lists/locations.csv\")\n",
    "locations = dict(locations.dropna()[['location_name', 'location']].to_dict('split')['data'])\n",
    "quantiles = (0.99, 0.95, 0.9, 0.85, 0.8, 0.75, 0.7, 0.65, 0.6, 0.55, 0.5, 0.45, 0.4, 0.35, 0.3, 0.25, 0.2, 0.15, 0.1, 0.05, 0.01, 0.975, 0.025)"
   ]
  },
  {
   "cell_type": "code",
   "execution_count": null,
   "metadata": {},
   "outputs": [],
   "source": [
    "test = pd.read_parquet(\"data/2020-04-06.parquet\")\n",
    "test.rename(columns={\"quantile\": \"q\"}, inplace=True)\n",
    "test.loc[test['q'].isna(),'q'] = ''\n",
    "test"
   ]
  },
  {
   "cell_type": "code",
   "execution_count": null,
   "metadata": {},
   "outputs": [],
   "source": [
    "test1 = test.pivot_table(index=[\"model\",\"timezero\",\"unit\",\"target\"], columns=[\"class\", \"q\"], values=\"value\", aggfunc= 'first').reset_index()\n",
    "test1"
   ]
  },
  {
   "cell_type": "code",
   "execution_count": null,
   "metadata": {},
   "outputs": [],
   "source": [
    "# Forecast Series getter\n",
    "def getFS(timezero, type=\"all\", model=\"all\", state=\"all\"):\n",
    "    \"\"\"Gets the weekly forecasted series by model, state and forecast date\n",
    "\n",
    "    Parameters\n",
    "    ----------\n",
    "    timezero : str or datetime\n",
    "        The date when the forecast was performed. If a string, provide the format '%Y-%m-%d'. This argument is compulsory.\n",
    "    type : str\n",
    "        'cum case' for cumulative cases.\n",
    "        'cum death' for cumulative deaths.\n",
    "        'inc case' for incidental cases.\n",
    "        'inc death' for incidental deaths.\n",
    "        'all' for all types\n",
    "    model : str\n",
    "        The model of the forecast. Choose 'all' for returning every model.\n",
    "    state : str\n",
    "        The target state of the forecast (full name). Choose 'all' for returning every state.\n",
    "\n",
    "    Returns\n",
    "    -------\n",
    "    pandas.DataFrame\n",
    "        a data frame indexed by target date, including series:\n",
    "           - point series\n",
    "           - quantile series\n",
    "        Columns are multi-indexed. To access a column use ('column_name', '') or ('quantile', '<perc>').\n",
    "    \"\"\"\n",
    "\n",
    "    data = pd.read_parquet(\"data/\"+str(timezero)+\".parquet\")\n",
    "    n = len(data)\n",
    "    c1 = data['target'].apply(str.endswith, args=(type, 0)) if type != \"all\" else pd.Series([True]*n)\n",
    "    c2 = data['model'] == model if model != \"all\" else pd.Series([True]*n)\n",
    "    c3 = data['unit'] == locations[state] if state != \"all\" else pd.Series([True]*n)\n",
    "    \n",
    "    data = data[c1 & c2 & c3]\n",
    "\n",
    "    if (data.empty):\n",
    "        return None\n",
    "    \n",
    "    # renaming duplicated columns\n",
    "    data.rename(columns={\"quantile\": \"q\"}, inplace=True)\n",
    "    # reshaping q column\n",
    "    data.loc[data['q'].isna(),'q'] = ''\n",
    "    # pivoting the orginal table\n",
    "    out=data.pivot_table(index=[\"model\",\"timezero\",\"unit\",\"target\"], columns=[\"class\",\"q\"], values=\"value\", aggfunc= 'first').reset_index()\n",
    "    # adding the target date\n",
    "    deltadays = out['target'].str.extract('(\\d+)')[0].astype(int).apply(dt.timedelta)*7\n",
    "    out[('time','')] = pd.to_datetime(out['timezero'], format=\"%Y-%m-%d\") + deltadays\n",
    "    out.set_index('time', inplace=True)\n",
    "\n",
    "    return out\n",
    "\n",
    "\n",
    "# Example: getFS(type=\"inc case\", model=\"all\", state=\"all\", timezero=\"2020-04-06\")\n",
    "# Example: getFS(type=\"cum death\", model=\"LANL-GrowthRate\", state=\"Texas\", timezero=\"2020-04-06\")"
   ]
  }
 ],
 "metadata": {
  "kernelspec": {
   "display_name": "Python 3",
   "language": "python",
   "name": "python3"
  },
  "language_info": {
   "codemirror_mode": {
    "name": "ipython",
    "version": 3
   },
   "file_extension": ".py",
   "mimetype": "text/x-python",
   "name": "python",
   "nbconvert_exporter": "python",
   "pygments_lexer": "ipython3",
   "version": "3.7.6"
  }
 },
 "nbformat": 4,
 "nbformat_minor": 4
}
