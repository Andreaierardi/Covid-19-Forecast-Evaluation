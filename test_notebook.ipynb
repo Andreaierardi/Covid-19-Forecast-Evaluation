{
 "cells": [
  {
   "cell_type": "code",
   "execution_count": 5,
   "metadata": {},
   "outputs": [],
   "source": [
    "import pandas as pd\n",
    "import pickle"
   ]
  },
  {
   "cell_type": "code",
   "execution_count": 7,
   "metadata": {},
   "outputs": [],
   "source": [
    "locations = pd.read_csv(\"https://raw.githubusercontent.com/reichlab/zoltpy/master/zoltpy/locations.csv\")\n",
    "locations = dict(locations.dropna()[['location_name', 'location']].to_dict('split')['data'])\n",
    "with open('data/unique_lists/locations.pkl', 'wb') as f:  # Python 3: open(..., 'wb')\n",
    "    pickle.dump(locations, f)\n",
    "f.close()"
   ]
  },
  {
   "cell_type": "code",
   "execution_count": null,
   "metadata": {},
   "outputs": [],
   "source": [
    "f = open('data/unique_lists/locations.pkl', 'rb')\n",
    "locations2 = pickle.load(f)\n",
    "f.close()\n",
    "locations2"
   ]
  }
 ],
 "metadata": {
  "kernelspec": {
   "display_name": "Python 3",
   "language": "python",
   "name": "python3"
  },
  "language_info": {
   "codemirror_mode": {
    "name": "ipython",
    "version": 3
   },
   "file_extension": ".py",
   "mimetype": "text/x-python",
   "name": "python",
   "nbconvert_exporter": "python",
   "pygments_lexer": "ipython3",
   "version": "3.7.6"
  }
 },
 "nbformat": 4,
 "nbformat_minor": 4
}
